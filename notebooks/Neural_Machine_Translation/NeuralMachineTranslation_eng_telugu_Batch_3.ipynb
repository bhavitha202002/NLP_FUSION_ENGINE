{
  "nbformat": 4,
  "nbformat_minor": 0,
  "metadata": {
    "colab": {
      "provenance": []
    },
    "kernelspec": {
      "name": "python3",
      "display_name": "Python 3"
    },
    "language_info": {
      "name": "python"
    },
    "accelerator": "GPU"
  },
  "cells": [
    {
      "cell_type": "markdown",
      "source": [
        "# 1. Importing Libraries"
      ],
      "metadata": {
        "id": "cvKgTfWV12aR"
      }
    },
    {
      "cell_type": "markdown",
      "source": [
        "The necessary libraries are imported for data processing, model building, and evaluation."
      ],
      "metadata": {
        "id": "QH399GZC1_q5"
      }
    },
    {
      "cell_type": "code",
      "metadata": {
        "id": "TphUnHWf_52Y"
      },
      "source": [
        "import pandas as pd\n",
        "import re\n",
        "import tensorflow as tf\n",
        "from tensorflow.keras.layers import Embedding, LSTM, Dense\n",
        "from tensorflow.keras.models import Model\n",
        "from tensorflow.keras.preprocessing.text import Tokenizer\n",
        "from tensorflow.keras.preprocessing.sequence import pad_sequences\n",
        "import numpy as np\n",
        "import nltk.translate.bleu_score as bleu\n",
        "import random\n",
        "import string\n",
        "from sklearn.model_selection import train_test_split\n",
        "import os\n",
        "import time"
      ],
      "execution_count": 1,
      "outputs": []
    },
    {
      "cell_type": "markdown",
      "source": [
        "# 2. Loading and Preprocessing Data\n",
        "\n",
        "The data from the CSV file (eng_tel.csv) is loaded into a pandas DataFrame and preprocessed to remove special characters, digits, and extra spaces."
      ],
      "metadata": {
        "id": "-NsqsKJn2BNX"
      }
    },
    {
      "cell_type": "code",
      "metadata": {
        "colab": {
          "base_uri": "https://localhost:8080/",
          "height": 206
        },
        "id": "X4Opm0xU_7OX",
        "outputId": "80ecd9b6-1648-49db-81d0-5d2e1bfcd5a3"
      },
      "source": [
        "eng_tel=pd.read_csv('eng_tel.csv')\n",
        "eng_tel.head()"
      ],
      "execution_count": 2,
      "outputs": [
        {
          "output_type": "execute_result",
          "data": {
            "text/plain": [
              "                                             English  \\\n",
              "0  politicians do not have permission to do what ...   \n",
              "1         I'd like to tell you about one such child,   \n",
              "2  This percentage is even greater than the perce...   \n",
              "3  what we really mean is that they're bad at not...   \n",
              "4  .The ending portion of these Vedas is called U...   \n",
              "\n",
              "                                              Telugu  \n",
              "0  రాజకీయ నాయకులకు చేయవలసినది చేయడానికి అనుమతి లేదు.  \n",
              "1  అలాంటి ఒక పిల్లల గురించి నేను మీకు చెప్పాలనుకు...  \n",
              "2           ఈ శాతం భారతదేశంలో ఉన్న శాతం కంటే ఎక్కువ.  \n",
              "3  మేము నిజంగా అర్థం ఏమిటంటే వారు శ్రద్ధ చూపకపోవడ...  \n",
              "4        .ఈ వేదాల ముగింపు భాగాన్ని ఉపనిషత్తు అంటారు.  "
            ],
            "text/html": [
              "\n",
              "  <div id=\"df-a00a8529-40a6-42cf-8385-83a7737a2cb8\" class=\"colab-df-container\">\n",
              "    <div>\n",
              "<style scoped>\n",
              "    .dataframe tbody tr th:only-of-type {\n",
              "        vertical-align: middle;\n",
              "    }\n",
              "\n",
              "    .dataframe tbody tr th {\n",
              "        vertical-align: top;\n",
              "    }\n",
              "\n",
              "    .dataframe thead th {\n",
              "        text-align: right;\n",
              "    }\n",
              "</style>\n",
              "<table border=\"1\" class=\"dataframe\">\n",
              "  <thead>\n",
              "    <tr style=\"text-align: right;\">\n",
              "      <th></th>\n",
              "      <th>English</th>\n",
              "      <th>Telugu</th>\n",
              "    </tr>\n",
              "  </thead>\n",
              "  <tbody>\n",
              "    <tr>\n",
              "      <th>0</th>\n",
              "      <td>politicians do not have permission to do what ...</td>\n",
              "      <td>రాజకీయ నాయకులకు చేయవలసినది చేయడానికి అనుమతి లేదు.</td>\n",
              "    </tr>\n",
              "    <tr>\n",
              "      <th>1</th>\n",
              "      <td>I'd like to tell you about one such child,</td>\n",
              "      <td>అలాంటి ఒక పిల్లల గురించి నేను మీకు చెప్పాలనుకు...</td>\n",
              "    </tr>\n",
              "    <tr>\n",
              "      <th>2</th>\n",
              "      <td>This percentage is even greater than the perce...</td>\n",
              "      <td>ఈ శాతం భారతదేశంలో ఉన్న శాతం కంటే ఎక్కువ.</td>\n",
              "    </tr>\n",
              "    <tr>\n",
              "      <th>3</th>\n",
              "      <td>what we really mean is that they're bad at not...</td>\n",
              "      <td>మేము నిజంగా అర్థం ఏమిటంటే వారు శ్రద్ధ చూపకపోవడ...</td>\n",
              "    </tr>\n",
              "    <tr>\n",
              "      <th>4</th>\n",
              "      <td>.The ending portion of these Vedas is called U...</td>\n",
              "      <td>.ఈ వేదాల ముగింపు భాగాన్ని ఉపనిషత్తు అంటారు.</td>\n",
              "    </tr>\n",
              "  </tbody>\n",
              "</table>\n",
              "</div>\n",
              "    <div class=\"colab-df-buttons\">\n",
              "\n",
              "  <div class=\"colab-df-container\">\n",
              "    <button class=\"colab-df-convert\" onclick=\"convertToInteractive('df-a00a8529-40a6-42cf-8385-83a7737a2cb8')\"\n",
              "            title=\"Convert this dataframe to an interactive table.\"\n",
              "            style=\"display:none;\">\n",
              "\n",
              "  <svg xmlns=\"http://www.w3.org/2000/svg\" height=\"24px\" viewBox=\"0 -960 960 960\">\n",
              "    <path d=\"M120-120v-720h720v720H120Zm60-500h600v-160H180v160Zm220 220h160v-160H400v160Zm0 220h160v-160H400v160ZM180-400h160v-160H180v160Zm440 0h160v-160H620v160ZM180-180h160v-160H180v160Zm440 0h160v-160H620v160Z\"/>\n",
              "  </svg>\n",
              "    </button>\n",
              "\n",
              "  <style>\n",
              "    .colab-df-container {\n",
              "      display:flex;\n",
              "      gap: 12px;\n",
              "    }\n",
              "\n",
              "    .colab-df-convert {\n",
              "      background-color: #E8F0FE;\n",
              "      border: none;\n",
              "      border-radius: 50%;\n",
              "      cursor: pointer;\n",
              "      display: none;\n",
              "      fill: #1967D2;\n",
              "      height: 32px;\n",
              "      padding: 0 0 0 0;\n",
              "      width: 32px;\n",
              "    }\n",
              "\n",
              "    .colab-df-convert:hover {\n",
              "      background-color: #E2EBFA;\n",
              "      box-shadow: 0px 1px 2px rgba(60, 64, 67, 0.3), 0px 1px 3px 1px rgba(60, 64, 67, 0.15);\n",
              "      fill: #174EA6;\n",
              "    }\n",
              "\n",
              "    .colab-df-buttons div {\n",
              "      margin-bottom: 4px;\n",
              "    }\n",
              "\n",
              "    [theme=dark] .colab-df-convert {\n",
              "      background-color: #3B4455;\n",
              "      fill: #D2E3FC;\n",
              "    }\n",
              "\n",
              "    [theme=dark] .colab-df-convert:hover {\n",
              "      background-color: #434B5C;\n",
              "      box-shadow: 0px 1px 3px 1px rgba(0, 0, 0, 0.15);\n",
              "      filter: drop-shadow(0px 1px 2px rgba(0, 0, 0, 0.3));\n",
              "      fill: #FFFFFF;\n",
              "    }\n",
              "  </style>\n",
              "\n",
              "    <script>\n",
              "      const buttonEl =\n",
              "        document.querySelector('#df-a00a8529-40a6-42cf-8385-83a7737a2cb8 button.colab-df-convert');\n",
              "      buttonEl.style.display =\n",
              "        google.colab.kernel.accessAllowed ? 'block' : 'none';\n",
              "\n",
              "      async function convertToInteractive(key) {\n",
              "        const element = document.querySelector('#df-a00a8529-40a6-42cf-8385-83a7737a2cb8');\n",
              "        const dataTable =\n",
              "          await google.colab.kernel.invokeFunction('convertToInteractive',\n",
              "                                                    [key], {});\n",
              "        if (!dataTable) return;\n",
              "\n",
              "        const docLinkHtml = 'Like what you see? Visit the ' +\n",
              "          '<a target=\"_blank\" href=https://colab.research.google.com/notebooks/data_table.ipynb>data table notebook</a>'\n",
              "          + ' to learn more about interactive tables.';\n",
              "        element.innerHTML = '';\n",
              "        dataTable['output_type'] = 'display_data';\n",
              "        await google.colab.output.renderOutput(dataTable, element);\n",
              "        const docLink = document.createElement('div');\n",
              "        docLink.innerHTML = docLinkHtml;\n",
              "        element.appendChild(docLink);\n",
              "      }\n",
              "    </script>\n",
              "  </div>\n",
              "\n",
              "\n",
              "<div id=\"df-75861245-c38e-423b-81f9-034f59c365b4\">\n",
              "  <button class=\"colab-df-quickchart\" onclick=\"quickchart('df-75861245-c38e-423b-81f9-034f59c365b4')\"\n",
              "            title=\"Suggest charts\"\n",
              "            style=\"display:none;\">\n",
              "\n",
              "<svg xmlns=\"http://www.w3.org/2000/svg\" height=\"24px\"viewBox=\"0 0 24 24\"\n",
              "     width=\"24px\">\n",
              "    <g>\n",
              "        <path d=\"M19 3H5c-1.1 0-2 .9-2 2v14c0 1.1.9 2 2 2h14c1.1 0 2-.9 2-2V5c0-1.1-.9-2-2-2zM9 17H7v-7h2v7zm4 0h-2V7h2v10zm4 0h-2v-4h2v4z\"/>\n",
              "    </g>\n",
              "</svg>\n",
              "  </button>\n",
              "\n",
              "<style>\n",
              "  .colab-df-quickchart {\n",
              "      --bg-color: #E8F0FE;\n",
              "      --fill-color: #1967D2;\n",
              "      --hover-bg-color: #E2EBFA;\n",
              "      --hover-fill-color: #174EA6;\n",
              "      --disabled-fill-color: #AAA;\n",
              "      --disabled-bg-color: #DDD;\n",
              "  }\n",
              "\n",
              "  [theme=dark] .colab-df-quickchart {\n",
              "      --bg-color: #3B4455;\n",
              "      --fill-color: #D2E3FC;\n",
              "      --hover-bg-color: #434B5C;\n",
              "      --hover-fill-color: #FFFFFF;\n",
              "      --disabled-bg-color: #3B4455;\n",
              "      --disabled-fill-color: #666;\n",
              "  }\n",
              "\n",
              "  .colab-df-quickchart {\n",
              "    background-color: var(--bg-color);\n",
              "    border: none;\n",
              "    border-radius: 50%;\n",
              "    cursor: pointer;\n",
              "    display: none;\n",
              "    fill: var(--fill-color);\n",
              "    height: 32px;\n",
              "    padding: 0;\n",
              "    width: 32px;\n",
              "  }\n",
              "\n",
              "  .colab-df-quickchart:hover {\n",
              "    background-color: var(--hover-bg-color);\n",
              "    box-shadow: 0 1px 2px rgba(60, 64, 67, 0.3), 0 1px 3px 1px rgba(60, 64, 67, 0.15);\n",
              "    fill: var(--button-hover-fill-color);\n",
              "  }\n",
              "\n",
              "  .colab-df-quickchart-complete:disabled,\n",
              "  .colab-df-quickchart-complete:disabled:hover {\n",
              "    background-color: var(--disabled-bg-color);\n",
              "    fill: var(--disabled-fill-color);\n",
              "    box-shadow: none;\n",
              "  }\n",
              "\n",
              "  .colab-df-spinner {\n",
              "    border: 2px solid var(--fill-color);\n",
              "    border-color: transparent;\n",
              "    border-bottom-color: var(--fill-color);\n",
              "    animation:\n",
              "      spin 1s steps(1) infinite;\n",
              "  }\n",
              "\n",
              "  @keyframes spin {\n",
              "    0% {\n",
              "      border-color: transparent;\n",
              "      border-bottom-color: var(--fill-color);\n",
              "      border-left-color: var(--fill-color);\n",
              "    }\n",
              "    20% {\n",
              "      border-color: transparent;\n",
              "      border-left-color: var(--fill-color);\n",
              "      border-top-color: var(--fill-color);\n",
              "    }\n",
              "    30% {\n",
              "      border-color: transparent;\n",
              "      border-left-color: var(--fill-color);\n",
              "      border-top-color: var(--fill-color);\n",
              "      border-right-color: var(--fill-color);\n",
              "    }\n",
              "    40% {\n",
              "      border-color: transparent;\n",
              "      border-right-color: var(--fill-color);\n",
              "      border-top-color: var(--fill-color);\n",
              "    }\n",
              "    60% {\n",
              "      border-color: transparent;\n",
              "      border-right-color: var(--fill-color);\n",
              "    }\n",
              "    80% {\n",
              "      border-color: transparent;\n",
              "      border-right-color: var(--fill-color);\n",
              "      border-bottom-color: var(--fill-color);\n",
              "    }\n",
              "    90% {\n",
              "      border-color: transparent;\n",
              "      border-bottom-color: var(--fill-color);\n",
              "    }\n",
              "  }\n",
              "</style>\n",
              "\n",
              "  <script>\n",
              "    async function quickchart(key) {\n",
              "      const quickchartButtonEl =\n",
              "        document.querySelector('#' + key + ' button');\n",
              "      quickchartButtonEl.disabled = true;  // To prevent multiple clicks.\n",
              "      quickchartButtonEl.classList.add('colab-df-spinner');\n",
              "      try {\n",
              "        const charts = await google.colab.kernel.invokeFunction(\n",
              "            'suggestCharts', [key], {});\n",
              "      } catch (error) {\n",
              "        console.error('Error during call to suggestCharts:', error);\n",
              "      }\n",
              "      quickchartButtonEl.classList.remove('colab-df-spinner');\n",
              "      quickchartButtonEl.classList.add('colab-df-quickchart-complete');\n",
              "    }\n",
              "    (() => {\n",
              "      let quickchartButtonEl =\n",
              "        document.querySelector('#df-75861245-c38e-423b-81f9-034f59c365b4 button');\n",
              "      quickchartButtonEl.style.display =\n",
              "        google.colab.kernel.accessAllowed ? 'block' : 'none';\n",
              "    })();\n",
              "  </script>\n",
              "</div>\n",
              "\n",
              "    </div>\n",
              "  </div>\n"
            ],
            "application/vnd.google.colaboratory.intrinsic+json": {
              "type": "dataframe",
              "variable_name": "eng_tel",
              "summary": "{\n  \"name\": \"eng_tel\",\n  \"rows\": 5615,\n  \"fields\": [\n    {\n      \"column\": \"English\",\n      \"properties\": {\n        \"dtype\": \"string\",\n        \"num_unique_values\": 5545,\n        \"samples\": [\n          \"who have been trafficked for commercial sexual exploitation.\",\n          \"Hindi Poet\",\n          \"Afterwards, when warriors of Rajput caste, won different parts of this state, they named these onthe basis of their clans or locations\"\n        ],\n        \"semantic_type\": \"\",\n        \"description\": \"\"\n      }\n    },\n    {\n      \"column\": \"Telugu\",\n      \"properties\": {\n        \"dtype\": \"string\",\n        \"num_unique_values\": 5536,\n        \"samples\": [\n          \"\\u0c2e\\u0c41\\u0c38\\u0c4d\\u0c32\\u0c3f\\u0c02\\u0c32 \\u0c39\\u0c4b\\u0c32\\u0c40 \\u0c2a\\u0c4d\\u0c30\\u0c26\\u0c47\\u0c36\\u0c02 \\u0c2e\\u0c38\\u0c40\\u0c26\\u0c41.\",\n          \"\\u0c06\\u0c27\\u0c41\\u0c28\\u0c3f\\u0c15 \\u0c2a\\u0c3e\\u0c30\\u0c4d\\u0c32\\u0c2e\\u0c46\\u0c02\\u0c1f\\u0c30\\u0c40 \\u0c2a\\u0c4d\\u0c30\\u0c1c\\u0c3e\\u0c38\\u0c4d\\u0c35\\u0c3e\\u0c2e\\u0c4d\\u0c2f \\u0c26\\u0c47\\u0c36\\u0c3e\\u0c32 \\u0c2a\\u0c28\\u0c3f\\u0c24\\u0c40\\u0c30\\u0c41\\u0c32\\u0c4b \\u0c15\\u0c4a\\u0c28\\u0c4d\\u0c28\\u0c3f \\u0c2e\\u0c41\\u0c16\\u0c4d\\u0c2f\\u0c2e\\u0c48\\u0c28 \\u0c32\\u0c15\\u0c4d\\u0c37\\u0c23\\u0c3e\\u0c32\\u0c41? \\u0c2e\\u0c46\\u0c1c\\u0c3e\\u0c30\\u0c3f\\u0c1f\\u0c40 \\u0c13\\u0c1f\\u0c41 \\u0c26\\u0c4d\\u0c35\\u0c3e\\u0c30\\u0c3e \\u0c09\\u0c1a\\u0c3f\\u0c24 \\u0c1a\\u0c30\\u0c4d\\u0c1a \\u0c2e\\u0c30\\u0c3f\\u0c2f\\u0c41 \\u0c28\\u0c3f\\u0c30\\u0c4d\\u0c23\\u0c2f\\u0c02? \\u0c09\\u0c28\\u0c3f\\u0c15\\u0c3f\\u0c32\\u0c4b \\u0c09\\u0c28\\u0c4d\\u0c28\\u0c1f\\u0c4d\\u0c32\\u0c41 \\u0c05\\u0c02\\u0c1f\\u0c3e\\u0c30\\u0c41.\",\n          \"\\u0c08\\u0c36\\u0c4d\\u0c35\\u0c30\\u0c4d (\\u0c26\\u0c47\\u0c35\\u0c41\\u0c21\\u0c41) \\u0c2e\\u0c30\\u0c3f\\u0c2f\\u0c41 \\u0c2e\\u0c28\\u0c3f\\u0c37\\u0c3f \\u0c2e\\u0c27\\u0c4d\\u0c2f \\u0c09\\u0c28\\u0c4d\\u0c28 \\u0c38\\u0c02\\u0c2c\\u0c02\\u0c27\\u0c02 \\u0c35\\u0c3f\\u0c35\\u0c3f\\u0c27 \\u0c05\\u0c2d\\u0c3f\\u0c2a\\u0c4d\\u0c30\\u0c3e\\u0c2f\\u0c3e\\u0c32\\u0c32\\u0c4b \\u0c2e\\u0c30\\u0c3f\\u0c2f\\u0c41 \\u0c1a\\u0c3e\\u0c32\\u0c3e \\u0c05\\u0c02\\u0c26\\u0c2e\\u0c48\\u0c28 \\u0c2e\\u0c3e\\u0c30\\u0c4d\\u0c17\\u0c3e\\u0c32\\u0c4d\\u0c32\\u0c4b \\u0c35\\u0c3f\\u0c35\\u0c30\\u0c3f\\u0c02\\u0c1a\\u0c2c\\u0c21\\u0c3f\\u0c02\\u0c26\\u0c3f.\"\n        ],\n        \"semantic_type\": \"\",\n        \"description\": \"\"\n      }\n    }\n  ]\n}"
            }
          },
          "metadata": {},
          "execution_count": 2
        }
      ]
    },
    {
      "cell_type": "code",
      "metadata": {
        "colab": {
          "base_uri": "https://localhost:8080/"
        },
        "id": "2yQUqA6g_8lh",
        "outputId": "20897866-8520-4e62-90f8-6542035807a2"
      },
      "source": [
        "eng_tel.dropna(inplace=True)\n",
        "eng_tel.shape"
      ],
      "execution_count": 3,
      "outputs": [
        {
          "output_type": "execute_result",
          "data": {
            "text/plain": [
              "(5615, 2)"
            ]
          },
          "metadata": {},
          "execution_count": 3
        }
      ]
    },
    {
      "cell_type": "code",
      "metadata": {
        "id": "zlhv9yF1AIBf"
      },
      "source": [
        "exclude = set(string.punctuation) # Set of all special characters\n",
        "remove_digits = str.maketrans('', '', string.digits) # Set of all digits"
      ],
      "execution_count": 4,
      "outputs": []
    },
    {
      "cell_type": "code",
      "metadata": {
        "id": "qeQ2I1iDAJ5o"
      },
      "source": [
        "def preprocess(text):\n",
        "    '''Function to preprocess English sentence'''\n",
        "    text = text.lower() # lower casing\n",
        "    text = re.sub(\"'\", '', text) # remove the quotation marks if any\n",
        "    text = ''.join(ch for ch in text if ch not in exclude)\n",
        "    text = text.translate(remove_digits) # remove the digits\n",
        "    text = text.strip()\n",
        "    text = re.sub(\" +\", \" \", text) # remove extra spaces\n",
        "    text = '<start> ' + text + ' <end>'\n",
        "    return text"
      ],
      "execution_count": 5,
      "outputs": []
    },
    {
      "cell_type": "code",
      "metadata": {
        "id": "aQcdfXMDALjr"
      },
      "source": [
        "def preprocess_tel(text):\n",
        "    '''Function to preprocess Telugu sentence'''\n",
        "    text = re.sub(\"'\", '', text) # remove the quotation marks if any\n",
        "    text = ''.join(ch for ch in text if ch not in exclude)\n",
        "    text = text.strip()\n",
        "    text = re.sub(\" +\", \" \", text) # remove extra spaces\n",
        "    text = '<start> ' + text + ' <end>'\n",
        "    return text"
      ],
      "execution_count": 6,
      "outputs": []
    },
    {
      "cell_type": "code",
      "metadata": {
        "colab": {
          "base_uri": "https://localhost:8080/",
          "height": 206
        },
        "id": "uYYoa6mfAc0Q",
        "outputId": "84cdeb22-bb3b-45a4-d4f7-d7748a80e53e"
      },
      "source": [
        "eng_tel['English'] = eng_tel['English'].apply(preprocess)\n",
        "eng_tel['Telugu'] = eng_tel['Telugu'].apply(preprocess_tel)\n",
        "\n",
        "\n",
        "eng_tel.head()"
      ],
      "execution_count": 7,
      "outputs": [
        {
          "output_type": "execute_result",
          "data": {
            "text/plain": [
              "                                             English  \\\n",
              "0  <start> politicians do not have permission to ...   \n",
              "1  <start> id like to tell you about one such chi...   \n",
              "2  <start> this percentage is even greater than t...   \n",
              "3  <start> what we really mean is that theyre bad...   \n",
              "4  <start> the ending portion of these vedas is c...   \n",
              "\n",
              "                                              Telugu  \n",
              "0  <start> రాజకీయ నాయకులకు చేయవలసినది చేయడానికి అ...  \n",
              "1  <start> అలాంటి ఒక పిల్లల గురించి నేను మీకు చెప...  \n",
              "2  <start> ఈ శాతం భారతదేశంలో ఉన్న శాతం కంటే ఎక్కు...  \n",
              "3  <start> మేము నిజంగా అర్థం ఏమిటంటే వారు శ్రద్ధ ...  \n",
              "4  <start> ఈ వేదాల ముగింపు భాగాన్ని ఉపనిషత్తు అంట...  "
            ],
            "text/html": [
              "\n",
              "  <div id=\"df-da16ecbf-ef7d-4935-a484-25dc5c1685c5\" class=\"colab-df-container\">\n",
              "    <div>\n",
              "<style scoped>\n",
              "    .dataframe tbody tr th:only-of-type {\n",
              "        vertical-align: middle;\n",
              "    }\n",
              "\n",
              "    .dataframe tbody tr th {\n",
              "        vertical-align: top;\n",
              "    }\n",
              "\n",
              "    .dataframe thead th {\n",
              "        text-align: right;\n",
              "    }\n",
              "</style>\n",
              "<table border=\"1\" class=\"dataframe\">\n",
              "  <thead>\n",
              "    <tr style=\"text-align: right;\">\n",
              "      <th></th>\n",
              "      <th>English</th>\n",
              "      <th>Telugu</th>\n",
              "    </tr>\n",
              "  </thead>\n",
              "  <tbody>\n",
              "    <tr>\n",
              "      <th>0</th>\n",
              "      <td>&lt;start&gt; politicians do not have permission to ...</td>\n",
              "      <td>&lt;start&gt; రాజకీయ నాయకులకు చేయవలసినది చేయడానికి అ...</td>\n",
              "    </tr>\n",
              "    <tr>\n",
              "      <th>1</th>\n",
              "      <td>&lt;start&gt; id like to tell you about one such chi...</td>\n",
              "      <td>&lt;start&gt; అలాంటి ఒక పిల్లల గురించి నేను మీకు చెప...</td>\n",
              "    </tr>\n",
              "    <tr>\n",
              "      <th>2</th>\n",
              "      <td>&lt;start&gt; this percentage is even greater than t...</td>\n",
              "      <td>&lt;start&gt; ఈ శాతం భారతదేశంలో ఉన్న శాతం కంటే ఎక్కు...</td>\n",
              "    </tr>\n",
              "    <tr>\n",
              "      <th>3</th>\n",
              "      <td>&lt;start&gt; what we really mean is that theyre bad...</td>\n",
              "      <td>&lt;start&gt; మేము నిజంగా అర్థం ఏమిటంటే వారు శ్రద్ధ ...</td>\n",
              "    </tr>\n",
              "    <tr>\n",
              "      <th>4</th>\n",
              "      <td>&lt;start&gt; the ending portion of these vedas is c...</td>\n",
              "      <td>&lt;start&gt; ఈ వేదాల ముగింపు భాగాన్ని ఉపనిషత్తు అంట...</td>\n",
              "    </tr>\n",
              "  </tbody>\n",
              "</table>\n",
              "</div>\n",
              "    <div class=\"colab-df-buttons\">\n",
              "\n",
              "  <div class=\"colab-df-container\">\n",
              "    <button class=\"colab-df-convert\" onclick=\"convertToInteractive('df-da16ecbf-ef7d-4935-a484-25dc5c1685c5')\"\n",
              "            title=\"Convert this dataframe to an interactive table.\"\n",
              "            style=\"display:none;\">\n",
              "\n",
              "  <svg xmlns=\"http://www.w3.org/2000/svg\" height=\"24px\" viewBox=\"0 -960 960 960\">\n",
              "    <path d=\"M120-120v-720h720v720H120Zm60-500h600v-160H180v160Zm220 220h160v-160H400v160Zm0 220h160v-160H400v160ZM180-400h160v-160H180v160Zm440 0h160v-160H620v160ZM180-180h160v-160H180v160Zm440 0h160v-160H620v160Z\"/>\n",
              "  </svg>\n",
              "    </button>\n",
              "\n",
              "  <style>\n",
              "    .colab-df-container {\n",
              "      display:flex;\n",
              "      gap: 12px;\n",
              "    }\n",
              "\n",
              "    .colab-df-convert {\n",
              "      background-color: #E8F0FE;\n",
              "      border: none;\n",
              "      border-radius: 50%;\n",
              "      cursor: pointer;\n",
              "      display: none;\n",
              "      fill: #1967D2;\n",
              "      height: 32px;\n",
              "      padding: 0 0 0 0;\n",
              "      width: 32px;\n",
              "    }\n",
              "\n",
              "    .colab-df-convert:hover {\n",
              "      background-color: #E2EBFA;\n",
              "      box-shadow: 0px 1px 2px rgba(60, 64, 67, 0.3), 0px 1px 3px 1px rgba(60, 64, 67, 0.15);\n",
              "      fill: #174EA6;\n",
              "    }\n",
              "\n",
              "    .colab-df-buttons div {\n",
              "      margin-bottom: 4px;\n",
              "    }\n",
              "\n",
              "    [theme=dark] .colab-df-convert {\n",
              "      background-color: #3B4455;\n",
              "      fill: #D2E3FC;\n",
              "    }\n",
              "\n",
              "    [theme=dark] .colab-df-convert:hover {\n",
              "      background-color: #434B5C;\n",
              "      box-shadow: 0px 1px 3px 1px rgba(0, 0, 0, 0.15);\n",
              "      filter: drop-shadow(0px 1px 2px rgba(0, 0, 0, 0.3));\n",
              "      fill: #FFFFFF;\n",
              "    }\n",
              "  </style>\n",
              "\n",
              "    <script>\n",
              "      const buttonEl =\n",
              "        document.querySelector('#df-da16ecbf-ef7d-4935-a484-25dc5c1685c5 button.colab-df-convert');\n",
              "      buttonEl.style.display =\n",
              "        google.colab.kernel.accessAllowed ? 'block' : 'none';\n",
              "\n",
              "      async function convertToInteractive(key) {\n",
              "        const element = document.querySelector('#df-da16ecbf-ef7d-4935-a484-25dc5c1685c5');\n",
              "        const dataTable =\n",
              "          await google.colab.kernel.invokeFunction('convertToInteractive',\n",
              "                                                    [key], {});\n",
              "        if (!dataTable) return;\n",
              "\n",
              "        const docLinkHtml = 'Like what you see? Visit the ' +\n",
              "          '<a target=\"_blank\" href=https://colab.research.google.com/notebooks/data_table.ipynb>data table notebook</a>'\n",
              "          + ' to learn more about interactive tables.';\n",
              "        element.innerHTML = '';\n",
              "        dataTable['output_type'] = 'display_data';\n",
              "        await google.colab.output.renderOutput(dataTable, element);\n",
              "        const docLink = document.createElement('div');\n",
              "        docLink.innerHTML = docLinkHtml;\n",
              "        element.appendChild(docLink);\n",
              "      }\n",
              "    </script>\n",
              "  </div>\n",
              "\n",
              "\n",
              "<div id=\"df-976b5af1-0739-4179-9078-f163859bdc46\">\n",
              "  <button class=\"colab-df-quickchart\" onclick=\"quickchart('df-976b5af1-0739-4179-9078-f163859bdc46')\"\n",
              "            title=\"Suggest charts\"\n",
              "            style=\"display:none;\">\n",
              "\n",
              "<svg xmlns=\"http://www.w3.org/2000/svg\" height=\"24px\"viewBox=\"0 0 24 24\"\n",
              "     width=\"24px\">\n",
              "    <g>\n",
              "        <path d=\"M19 3H5c-1.1 0-2 .9-2 2v14c0 1.1.9 2 2 2h14c1.1 0 2-.9 2-2V5c0-1.1-.9-2-2-2zM9 17H7v-7h2v7zm4 0h-2V7h2v10zm4 0h-2v-4h2v4z\"/>\n",
              "    </g>\n",
              "</svg>\n",
              "  </button>\n",
              "\n",
              "<style>\n",
              "  .colab-df-quickchart {\n",
              "      --bg-color: #E8F0FE;\n",
              "      --fill-color: #1967D2;\n",
              "      --hover-bg-color: #E2EBFA;\n",
              "      --hover-fill-color: #174EA6;\n",
              "      --disabled-fill-color: #AAA;\n",
              "      --disabled-bg-color: #DDD;\n",
              "  }\n",
              "\n",
              "  [theme=dark] .colab-df-quickchart {\n",
              "      --bg-color: #3B4455;\n",
              "      --fill-color: #D2E3FC;\n",
              "      --hover-bg-color: #434B5C;\n",
              "      --hover-fill-color: #FFFFFF;\n",
              "      --disabled-bg-color: #3B4455;\n",
              "      --disabled-fill-color: #666;\n",
              "  }\n",
              "\n",
              "  .colab-df-quickchart {\n",
              "    background-color: var(--bg-color);\n",
              "    border: none;\n",
              "    border-radius: 50%;\n",
              "    cursor: pointer;\n",
              "    display: none;\n",
              "    fill: var(--fill-color);\n",
              "    height: 32px;\n",
              "    padding: 0;\n",
              "    width: 32px;\n",
              "  }\n",
              "\n",
              "  .colab-df-quickchart:hover {\n",
              "    background-color: var(--hover-bg-color);\n",
              "    box-shadow: 0 1px 2px rgba(60, 64, 67, 0.3), 0 1px 3px 1px rgba(60, 64, 67, 0.15);\n",
              "    fill: var(--button-hover-fill-color);\n",
              "  }\n",
              "\n",
              "  .colab-df-quickchart-complete:disabled,\n",
              "  .colab-df-quickchart-complete:disabled:hover {\n",
              "    background-color: var(--disabled-bg-color);\n",
              "    fill: var(--disabled-fill-color);\n",
              "    box-shadow: none;\n",
              "  }\n",
              "\n",
              "  .colab-df-spinner {\n",
              "    border: 2px solid var(--fill-color);\n",
              "    border-color: transparent;\n",
              "    border-bottom-color: var(--fill-color);\n",
              "    animation:\n",
              "      spin 1s steps(1) infinite;\n",
              "  }\n",
              "\n",
              "  @keyframes spin {\n",
              "    0% {\n",
              "      border-color: transparent;\n",
              "      border-bottom-color: var(--fill-color);\n",
              "      border-left-color: var(--fill-color);\n",
              "    }\n",
              "    20% {\n",
              "      border-color: transparent;\n",
              "      border-left-color: var(--fill-color);\n",
              "      border-top-color: var(--fill-color);\n",
              "    }\n",
              "    30% {\n",
              "      border-color: transparent;\n",
              "      border-left-color: var(--fill-color);\n",
              "      border-top-color: var(--fill-color);\n",
              "      border-right-color: var(--fill-color);\n",
              "    }\n",
              "    40% {\n",
              "      border-color: transparent;\n",
              "      border-right-color: var(--fill-color);\n",
              "      border-top-color: var(--fill-color);\n",
              "    }\n",
              "    60% {\n",
              "      border-color: transparent;\n",
              "      border-right-color: var(--fill-color);\n",
              "    }\n",
              "    80% {\n",
              "      border-color: transparent;\n",
              "      border-right-color: var(--fill-color);\n",
              "      border-bottom-color: var(--fill-color);\n",
              "    }\n",
              "    90% {\n",
              "      border-color: transparent;\n",
              "      border-bottom-color: var(--fill-color);\n",
              "    }\n",
              "  }\n",
              "</style>\n",
              "\n",
              "  <script>\n",
              "    async function quickchart(key) {\n",
              "      const quickchartButtonEl =\n",
              "        document.querySelector('#' + key + ' button');\n",
              "      quickchartButtonEl.disabled = true;  // To prevent multiple clicks.\n",
              "      quickchartButtonEl.classList.add('colab-df-spinner');\n",
              "      try {\n",
              "        const charts = await google.colab.kernel.invokeFunction(\n",
              "            'suggestCharts', [key], {});\n",
              "      } catch (error) {\n",
              "        console.error('Error during call to suggestCharts:', error);\n",
              "      }\n",
              "      quickchartButtonEl.classList.remove('colab-df-spinner');\n",
              "      quickchartButtonEl.classList.add('colab-df-quickchart-complete');\n",
              "    }\n",
              "    (() => {\n",
              "      let quickchartButtonEl =\n",
              "        document.querySelector('#df-976b5af1-0739-4179-9078-f163859bdc46 button');\n",
              "      quickchartButtonEl.style.display =\n",
              "        google.colab.kernel.accessAllowed ? 'block' : 'none';\n",
              "    })();\n",
              "  </script>\n",
              "</div>\n",
              "\n",
              "    </div>\n",
              "  </div>\n"
            ],
            "application/vnd.google.colaboratory.intrinsic+json": {
              "type": "dataframe",
              "variable_name": "eng_tel",
              "summary": "{\n  \"name\": \"eng_tel\",\n  \"rows\": 5615,\n  \"fields\": [\n    {\n      \"column\": \"English\",\n      \"properties\": {\n        \"dtype\": \"string\",\n        \"num_unique_values\": 5533,\n        \"samples\": [\n          \"<start> there is perhaps one exception devara dasimayya whom basava prais ed was a historical person and he lived during the middle of the eleventh century <end>\",\n          \"<start> geeta as it is with word meaning in hindi <end>\",\n          \"<start> best available control technology <end>\"\n        ],\n        \"semantic_type\": \"\",\n        \"description\": \"\"\n      }\n    },\n    {\n      \"column\": \"Telugu\",\n      \"properties\": {\n        \"dtype\": \"string\",\n        \"num_unique_values\": 5529,\n        \"samples\": [\n          \"<start> \\u0c05\\u0c24\\u0c28\\u0c41 \\u0c24\\u0c28 \\u0c1a\\u0c26\\u0c41\\u0c35\\u0c41\\u0c28\\u0c41 \\u0c15\\u0c42\\u0c21\\u0c3e \\u0c15\\u0c4a\\u0c28\\u0c38\\u0c3e\\u0c17\\u0c3f\\u0c02\\u0c1a\\u0c3e\\u0c21\\u0c41 <end>\",\n          \"<start> \\u0c2d\\u0c4b\\u0c2a\\u0c3e\\u0c32\\u0c4d \\u0c21\\u0c3f\\u0c15\\u0c4d\\u0c32\\u0c30\\u0c47\\u0c37\\u0c28\\u0c4d \\u0c35\\u0c46\\u0c28\\u0c41\\u0c15 \\u0c2a\\u0c4d\\u0c30\\u0c27\\u0c3e\\u0c28 \\u0c30\\u0c35\\u0c3e\\u0c23\\u0c3e\\u0c26\\u0c3e\\u0c30\\u0c41\\u0c21\\u0c41 \\u0c26\\u0c33\\u0c3f\\u0c24 \\u0c30\\u0c1a\\u0c2f\\u0c3f\\u0c24 \\u0c1a\\u0c02\\u0c26\\u0c4d\\u0c30\\u0c2d\\u0c28\\u0c4d \\u0c2a\\u0c4d\\u0c30\\u0c38\\u0c3e\\u0c26\\u0c4d <end>\",\n          \"<start> \\u0c05\\u0c2a\\u0c4d\\u0c2a\\u0c41\\u0c21\\u0c41 \\u0c05\\u0c24\\u0c28\\u0c41 \\u0c24\\u0c2a\\u0c38\\u0c4d\\u0c38\\u0c41 \\u0c1a\\u0c47\\u0c38\\u0c3e\\u0c21\\u0c41 \\u0c15\\u0c3e\\u0c28\\u0c3f \\u0c05\\u0c24\\u0c28\\u0c3f \\u0c2a\\u0c4d\\u0c30\\u0c36\\u0c4d\\u0c28\\u0c32\\u0c15\\u0c41 \\u0c38\\u0c2e\\u0c3e\\u0c27\\u0c3e\\u0c28\\u0c3e\\u0c32\\u0c41 \\u0c15\\u0c28\\u0c41\\u0c17\\u0c4a\\u0c28\\u0c32\\u0c47\\u0c15\\u0c2a\\u0c4b\\u0c2f\\u0c3e\\u0c21\\u0c41 <end>\"\n        ],\n        \"semantic_type\": \"\",\n        \"description\": \"\"\n      }\n    }\n  ]\n}"
            }
          },
          "metadata": {},
          "execution_count": 7
        }
      ]
    },
    {
      "cell_type": "markdown",
      "source": [
        "# 3. Tokenization and Dataset Preparation\n",
        "The English and Telugu sentences are tokenized, and the dataset is prepared for training by splitting it into training and validation sets."
      ],
      "metadata": {
        "id": "INY7Dbxo2Xc2"
      }
    },
    {
      "cell_type": "code",
      "metadata": {
        "id": "1zNS9JknEWfa"
      },
      "source": [
        "def tokenize(lang):\n",
        "\n",
        "  lang_tokenizer = tf.keras.preprocessing.text.Tokenizer(filters='')\n",
        "  lang_tokenizer.fit_on_texts(lang)\n",
        "\n",
        "  tensor = lang_tokenizer.texts_to_sequences(lang)\n",
        "\n",
        "  tensor = tf.keras.preprocessing.sequence.pad_sequences(tensor,padding='post',maxlen=20,dtype='int32')\n",
        "\n",
        "  return tensor, lang_tokenizer"
      ],
      "execution_count": 8,
      "outputs": []
    },
    {
      "cell_type": "code",
      "metadata": {
        "id": "4jQkH882Fs9x"
      },
      "source": [
        "def load_dataset():\n",
        "\n",
        "  input_tensor, inp_lang_tokenizer = tokenize(eng_tel['English'].values)\n",
        "  target_tensor, targ_lang_tokenizer = tokenize(eng_tel['Telugu'].values)\n",
        "\n",
        "  return input_tensor, target_tensor, inp_lang_tokenizer, targ_lang_tokenizer"
      ],
      "execution_count": 9,
      "outputs": []
    },
    {
      "cell_type": "code",
      "metadata": {
        "id": "4-Wg24AOFO9s"
      },
      "source": [
        "input_tensor, target_tensor, inp_lang, targ_lang = load_dataset()"
      ],
      "execution_count": 10,
      "outputs": []
    },
    {
      "cell_type": "code",
      "metadata": {
        "id": "lUvO_uSiGCLC"
      },
      "source": [
        "max_length_targ, max_length_inp = target_tensor.shape[1], input_tensor.shape[1]"
      ],
      "execution_count": 11,
      "outputs": []
    },
    {
      "cell_type": "code",
      "metadata": {
        "colab": {
          "base_uri": "https://localhost:8080/"
        },
        "id": "7G9J9aanGEnY",
        "outputId": "dda58f37-202a-449e-fd32-023d11285b9f"
      },
      "source": [
        "input_tensor_train, input_tensor_val, target_tensor_train, target_tensor_val = train_test_split(input_tensor, target_tensor, test_size=0.15)\n",
        "\n",
        "print(len(input_tensor_train), len(target_tensor_train), len(input_tensor_val), len(target_tensor_val))"
      ],
      "execution_count": 12,
      "outputs": [
        {
          "output_type": "stream",
          "name": "stdout",
          "text": [
            "4772 4772 843 843\n"
          ]
        }
      ]
    },
    {
      "cell_type": "markdown",
      "source": [
        "# 4. Define Constants and Hyperparameters\n",
        "\n",
        "Constants and hyperparameters such as batch size, embedding dimensions, and optimizer settings are defined."
      ],
      "metadata": {
        "id": "ZvFxsthc2f8W"
      }
    },
    {
      "cell_type": "code",
      "metadata": {
        "id": "r9oyMQjLGZ4x"
      },
      "source": [
        "BUFFER_SIZE = len(input_tensor_train)\n",
        "BATCH_SIZE = 16\n",
        "N_BATCH = BUFFER_SIZE//BATCH_SIZE\n",
        "embedding_dim = 128\n",
        "units = 1024\n",
        "steps_per_epoch = len(input_tensor_train)//BATCH_SIZE\n",
        "\n",
        "vocab_inp_size =len(inp_lang.word_index.keys())\n",
        "vocab_tar_size =len(targ_lang.word_index.keys())\n",
        "\n",
        "dataset = tf.data.Dataset.from_tensor_slices((input_tensor_train, target_tensor_train)).shuffle(BUFFER_SIZE)\n",
        "dataset = dataset.batch(BATCH_SIZE, drop_remainder=True)"
      ],
      "execution_count": 13,
      "outputs": []
    },
    {
      "cell_type": "markdown",
      "source": [
        "# 5. Load GloVe Embeddings and Create Embedding Matrix\n",
        "\n",
        "GloVe embeddings are loaded from a text file (glove.6B.300d.txt), and an embedding matrix is created based on the words in the dataset."
      ],
      "metadata": {
        "id": "Z9bFvn1i2ouJ"
      }
    },
    {
      "cell_type": "code",
      "metadata": {
        "id": "AKD-3jidQtND"
      },
      "source": [
        "import numpy as np\n",
        "\n",
        "# Initialize the embeddings_index dictionary\n",
        "embeddings_index = dict()\n",
        "\n",
        "# Open the GloVe embeddings file\n",
        "with open('glove.6B.300d.txt', 'r', encoding='utf-8') as f:\n",
        "    # Iterate through each line in the file\n",
        "    for line in f:\n",
        "        values = line.split()\n",
        "        word = values[0]\n",
        "        # Concatenate negative sign \"-\" with numeric values\n",
        "        coefs = np.asarray(values[1:], dtype='float32')\n",
        "        embeddings_index[word] = coefs\n",
        "\n",
        "# Close the file\n",
        "f.close()\n",
        "\n",
        "'''\n",
        "embedding_matrix = np.zeros((vocab_inp_size+1, 300))\n",
        "for word, i in inp_lang.word_index.items():\n",
        "    embedding_vector = embeddings_index.get(word)\n",
        "    if embedding_vector is not None:\n",
        "        embedding_matrix[i] = embedding_vector '''\n",
        "\n",
        "\n",
        "embedding_matrix = np.zeros((vocab_inp_size + 1, 300))\n",
        "\n",
        "for word, i in inp_lang.word_index.items():\n",
        "    embedding_vector = embeddings_index.get(word)\n",
        "    if embedding_vector is not None:\n",
        "        # Check if the dimensions match, if not, pad or truncate\n",
        "        if embedding_vector.shape[0] != 300:\n",
        "            if embedding_vector.shape[0] < 300:\n",
        "                # Pad the vector with zeros to match the expected shape\n",
        "                padded_embedding = np.pad(embedding_vector, (0, 300 - embedding_vector.shape[0]), 'constant')\n",
        "                embedding_matrix[i] = padded_embedding\n",
        "            else:\n",
        "                # Truncate the vector to match the expected shape\n",
        "                truncated_embedding = embedding_vector[:300]\n",
        "                embedding_matrix[i] = truncated_embedding\n",
        "        else:\n",
        "            # If the dimensions already match, just assign it directly\n",
        "            embedding_matrix[i] = embedding_vector\n"
      ],
      "execution_count": 23,
      "outputs": []
    },
    {
      "cell_type": "markdown",
      "source": [
        "# 6. Define Encoder and Decoder Classes\n",
        "\n",
        "Classes for the encoder and decoder models are defined, including the attention mechanism."
      ],
      "metadata": {
        "id": "9070JGUI2tSa"
      }
    },
    {
      "cell_type": "code",
      "metadata": {
        "id": "I_-Bj6ENHE4I"
      },
      "source": [
        "class Encoder(tf.keras.Model):\n",
        "    def __init__(self, vocab_size, embedding_dim, enc_units, batch_sz):\n",
        "        super(Encoder, self).__init__()\n",
        "        self.batch_sz = batch_sz\n",
        "        self.enc_units = enc_units\n",
        "        self.embedding = tf.keras.layers.Embedding(input_dim=vocab_size, output_dim=embedding_dim, name=\"embedding_layer_encoder\",trainable=False)\n",
        "        self.gru = tf.keras.layers.GRU(units, return_sequences=True, return_state=True, recurrent_activation='sigmoid', recurrent_initializer='glorot_uniform')\n",
        "\n",
        "    def call(self, x, hidden):\n",
        "        x = self.embedding(x)\n",
        "        output, state = self.gru(x, initial_state = hidden)\n",
        "        return output, state\n",
        "\n",
        "    def initialize_hidden_state(self):\n",
        "        return tf.zeros((self.batch_sz, self.enc_units))"
      ],
      "execution_count": 24,
      "outputs": []
    },
    {
      "cell_type": "code",
      "metadata": {
        "id": "afDryQ94HdKt"
      },
      "source": [
        "class Decoder(tf.keras.Model):\n",
        "    def __init__(self, vocab_size, embedding_dim, dec_units, batch_sz):\n",
        "        super(Decoder, self).__init__()\n",
        "        self.batch_sz = batch_sz\n",
        "        self.dec_units = dec_units\n",
        "        self.embedding = tf.keras.layers.Embedding(vocab_size, embedding_dim)\n",
        "        self.gru = tf.keras.layers.GRU(units, return_sequences=True, return_state=True, recurrent_activation='sigmoid', recurrent_initializer='glorot_uniform')\n",
        "        self.fc = tf.keras.layers.Dense(vocab_size)\n",
        "\n",
        "                # used for attention\n",
        "        self.W1 = tf.keras.layers.Dense(self.dec_units)\n",
        "        self.W2 = tf.keras.layers.Dense(self.dec_units)\n",
        "        self.V = tf.keras.layers.Dense(1)\n",
        "\n",
        "    def call(self, x, hidden, enc_output):\n",
        "\n",
        "        hidden_with_time_axis = tf.expand_dims(hidden, 1)\n",
        "\n",
        "        score = self.V(tf.nn.tanh(self.W1(enc_output) + self.W2(hidden_with_time_axis)))\n",
        "\n",
        "        attention_weights = tf.nn.softmax(score, axis=1)\n",
        "\n",
        "        context_vector = attention_weights * enc_output\n",
        "        context_vector = tf.reduce_sum(context_vector, axis=1)\n",
        "\n",
        "        x = self.embedding(x)\n",
        "\n",
        "        x = tf.concat([tf.expand_dims(context_vector, 1), x], axis=-1)\n",
        "\n",
        "        output, state = self.gru(x)\n",
        "\n",
        "        output = tf.reshape(output, (-1, output.shape[2]))\n",
        "\n",
        "        x = self.fc(output)\n",
        "\n",
        "        return x, state, attention_weights\n",
        "\n",
        "    def initialize_hidden_state(self):\n",
        "        return tf.zeros((self.batch_sz, self.dec_units))"
      ],
      "execution_count": 25,
      "outputs": []
    },
    {
      "cell_type": "code",
      "metadata": {
        "id": "8oGe0qnwHyA5"
      },
      "source": [
        "tf.keras.backend.clear_session()\n",
        "\n",
        "encoder = Encoder(vocab_inp_size+1, 300, units, BATCH_SIZE)\n",
        "decoder = Decoder(vocab_tar_size+1, embedding_dim, units, BATCH_SIZE)"
      ],
      "execution_count": 26,
      "outputs": []
    },
    {
      "cell_type": "markdown",
      "source": [
        "# 7. Define Loss Function and Optimization Step\n",
        "\n",
        "The loss function and optimization step for training the model are defined."
      ],
      "metadata": {
        "id": "i0PhcFmL2yVL"
      }
    },
    {
      "cell_type": "code",
      "metadata": {
        "id": "hV6fzW6vQzXd"
      },
      "source": [
        "optimizer = tf.keras.optimizers.Adam()\n",
        "loss_object = tf.keras.losses.SparseCategoricalCrossentropy(from_logits=True,\n",
        "                                                            reduction='none')\n",
        "\n",
        "\n",
        "def loss_function(real, pred):\n",
        "  mask = tf.math.logical_not(tf.math.equal(real, 0))\n",
        "  loss_ = loss_object(real, pred)\n",
        "\n",
        "  mask = tf.cast(mask, dtype=loss_.dtype)\n",
        "  loss_ *= mask\n",
        "\n",
        "  return tf.reduce_mean(loss_)"
      ],
      "execution_count": 27,
      "outputs": []
    },
    {
      "cell_type": "markdown",
      "source": [
        "# 8. Training Loop\n",
        "\n",
        "The model is trained over multiple epochs, and the loss is printed for each epoch."
      ],
      "metadata": {
        "id": "ksdoF6en23uW"
      }
    },
    {
      "cell_type": "code",
      "metadata": {
        "id": "xf-qboRWQ4nC"
      },
      "source": [
        "@tf.function\n",
        "def train_step(inp, targ, enc_hidden):\n",
        "  loss = 0\n",
        "\n",
        "  with tf.GradientTape() as tape:\n",
        "    enc_output, enc_hidden = encoder(inp, enc_hidden)\n",
        "    encoder.get_layer('embedding_layer_encoder').set_weights([embedding_matrix])\n",
        "    dec_hidden = enc_hidden\n",
        "\n",
        "    dec_input = tf.expand_dims([targ_lang.word_index['<start>']] * BATCH_SIZE, 1)\n",
        "\n",
        "    for t in range(1, targ.shape[1]):\n",
        "      predictions, dec_hidden, _ = decoder(dec_input, dec_hidden, enc_output)\n",
        "\n",
        "      loss += loss_function(targ[:, t], predictions)\n",
        "\n",
        "      dec_input = tf.expand_dims(targ[:, t], 1)\n",
        "\n",
        "  batch_loss = (loss / int(targ.shape[1]))\n",
        "\n",
        "  variables = encoder.trainable_variables + decoder.trainable_variables\n",
        "\n",
        "  gradients = tape.gradient(loss, variables)\n",
        "\n",
        "  optimizer.apply_gradients(zip(gradients, variables))\n",
        "\n",
        "  return batch_loss"
      ],
      "execution_count": 28,
      "outputs": []
    },
    {
      "cell_type": "code",
      "metadata": {
        "id": "lNTA90Y5UfeG",
        "colab": {
          "base_uri": "https://localhost:8080/"
        },
        "outputId": "f75fd973-d73e-48ec-8e01-d46a59bf907a"
      },
      "source": [
        "EPOCHS = 25\n",
        "\n",
        "for epoch in range(EPOCHS):\n",
        "  start = time.time()\n",
        "\n",
        "  enc_hidden = encoder.initialize_hidden_state()\n",
        "  total_loss = 0\n",
        "\n",
        "  for (batch, (inp, targ)) in enumerate(dataset.take(steps_per_epoch)):\n",
        "    batch_loss = train_step(inp, targ, enc_hidden)\n",
        "    total_loss += batch_loss\n",
        "\n",
        "    if batch % 100 == 0:\n",
        "      print(f'Epoch {epoch+1} Batch {batch} Loss {batch_loss.numpy():.4f}')\n",
        "\n",
        "  print(f'Epoch {epoch+1} Loss {total_loss/steps_per_epoch:.4f}')\n",
        "  print(f'Time taken for 1 epoch {time.time()-start:.2f} sec\\n')"
      ],
      "execution_count": 29,
      "outputs": [
        {
          "output_type": "stream",
          "name": "stdout",
          "text": [
            "Epoch 1 Batch 0 Loss 5.8198\n",
            "Epoch 1 Batch 100 Loss 4.2694\n",
            "Epoch 1 Batch 200 Loss 5.0857\n",
            "Epoch 1 Loss 4.4449\n",
            "Time taken for 1 epoch 65.49 sec\n",
            "\n",
            "Epoch 2 Batch 0 Loss 5.1837\n",
            "Epoch 2 Batch 100 Loss 3.3217\n",
            "Epoch 2 Batch 200 Loss 3.2042\n",
            "Epoch 2 Loss 4.1271\n",
            "Time taken for 1 epoch 34.40 sec\n",
            "\n",
            "Epoch 3 Batch 0 Loss 5.6114\n",
            "Epoch 3 Batch 100 Loss 4.0349\n",
            "Epoch 3 Batch 200 Loss 3.7618\n",
            "Epoch 3 Loss 3.9874\n",
            "Time taken for 1 epoch 34.05 sec\n",
            "\n",
            "Epoch 4 Batch 0 Loss 3.8017\n",
            "Epoch 4 Batch 100 Loss 3.4790\n",
            "Epoch 4 Batch 200 Loss 3.6839\n",
            "Epoch 4 Loss 3.8351\n",
            "Time taken for 1 epoch 33.95 sec\n",
            "\n",
            "Epoch 5 Batch 0 Loss 3.6902\n",
            "Epoch 5 Batch 100 Loss 3.5116\n",
            "Epoch 5 Batch 200 Loss 3.0642\n",
            "Epoch 5 Loss 3.6073\n",
            "Time taken for 1 epoch 33.92 sec\n",
            "\n",
            "Epoch 6 Batch 0 Loss 3.0507\n",
            "Epoch 6 Batch 100 Loss 2.9054\n",
            "Epoch 6 Batch 200 Loss 3.8868\n",
            "Epoch 6 Loss 3.2392\n",
            "Time taken for 1 epoch 34.03 sec\n",
            "\n",
            "Epoch 7 Batch 0 Loss 2.9565\n",
            "Epoch 7 Batch 100 Loss 2.8350\n",
            "Epoch 7 Batch 200 Loss 1.8837\n",
            "Epoch 7 Loss 2.6675\n",
            "Time taken for 1 epoch 34.05 sec\n",
            "\n",
            "Epoch 8 Batch 0 Loss 1.9438\n",
            "Epoch 8 Batch 100 Loss 2.1299\n",
            "Epoch 8 Batch 200 Loss 1.9044\n",
            "Epoch 8 Loss 1.9439\n",
            "Time taken for 1 epoch 33.92 sec\n",
            "\n",
            "Epoch 9 Batch 0 Loss 1.3020\n",
            "Epoch 9 Batch 100 Loss 1.8129\n",
            "Epoch 9 Batch 200 Loss 1.3359\n",
            "Epoch 9 Loss 1.3575\n",
            "Time taken for 1 epoch 33.97 sec\n",
            "\n",
            "Epoch 10 Batch 0 Loss 1.2261\n",
            "Epoch 10 Batch 100 Loss 1.1564\n",
            "Epoch 10 Batch 200 Loss 1.0131\n",
            "Epoch 10 Loss 1.0525\n",
            "Time taken for 1 epoch 33.87 sec\n",
            "\n",
            "Epoch 11 Batch 0 Loss 1.0214\n",
            "Epoch 11 Batch 100 Loss 0.9228\n",
            "Epoch 11 Batch 200 Loss 1.0006\n",
            "Epoch 11 Loss 0.8226\n",
            "Time taken for 1 epoch 33.90 sec\n",
            "\n",
            "Epoch 12 Batch 0 Loss 0.4844\n",
            "Epoch 12 Batch 100 Loss 0.9754\n",
            "Epoch 12 Batch 200 Loss 0.6319\n",
            "Epoch 12 Loss 0.6282\n",
            "Time taken for 1 epoch 33.88 sec\n",
            "\n",
            "Epoch 13 Batch 0 Loss 0.3823\n",
            "Epoch 13 Batch 100 Loss 0.3653\n",
            "Epoch 13 Batch 200 Loss 0.3494\n",
            "Epoch 13 Loss 0.4685\n",
            "Time taken for 1 epoch 33.95 sec\n",
            "\n",
            "Epoch 14 Batch 0 Loss 0.5158\n",
            "Epoch 14 Batch 100 Loss 0.3331\n",
            "Epoch 14 Batch 200 Loss 0.3485\n",
            "Epoch 14 Loss 0.3468\n",
            "Time taken for 1 epoch 33.98 sec\n",
            "\n",
            "Epoch 15 Batch 0 Loss 0.3346\n",
            "Epoch 15 Batch 100 Loss 0.3035\n",
            "Epoch 15 Batch 200 Loss 0.2889\n",
            "Epoch 15 Loss 0.2631\n",
            "Time taken for 1 epoch 34.01 sec\n",
            "\n",
            "Epoch 16 Batch 0 Loss 0.1786\n",
            "Epoch 16 Batch 100 Loss 0.2026\n",
            "Epoch 16 Batch 200 Loss 0.1948\n",
            "Epoch 16 Loss 0.1987\n",
            "Time taken for 1 epoch 33.97 sec\n",
            "\n",
            "Epoch 17 Batch 0 Loss 0.1619\n",
            "Epoch 17 Batch 100 Loss 0.1525\n",
            "Epoch 17 Batch 200 Loss 0.1139\n",
            "Epoch 17 Loss 0.1545\n",
            "Time taken for 1 epoch 40.95 sec\n",
            "\n",
            "Epoch 18 Batch 0 Loss 0.2162\n",
            "Epoch 18 Batch 100 Loss 0.1496\n",
            "Epoch 18 Batch 200 Loss 0.0876\n",
            "Epoch 18 Loss 0.1210\n",
            "Time taken for 1 epoch 34.05 sec\n",
            "\n",
            "Epoch 19 Batch 0 Loss 0.1248\n",
            "Epoch 19 Batch 100 Loss 0.2091\n",
            "Epoch 19 Batch 200 Loss 0.0877\n",
            "Epoch 19 Loss 0.0968\n",
            "Time taken for 1 epoch 33.85 sec\n",
            "\n",
            "Epoch 20 Batch 0 Loss 0.0146\n",
            "Epoch 20 Batch 100 Loss 0.0575\n",
            "Epoch 20 Batch 200 Loss 0.0752\n",
            "Epoch 20 Loss 0.0800\n",
            "Time taken for 1 epoch 33.84 sec\n",
            "\n",
            "Epoch 21 Batch 0 Loss 0.0833\n",
            "Epoch 21 Batch 100 Loss 0.1017\n",
            "Epoch 21 Batch 200 Loss 0.1955\n",
            "Epoch 21 Loss 0.0691\n",
            "Time taken for 1 epoch 33.84 sec\n",
            "\n",
            "Epoch 22 Batch 0 Loss 0.1338\n",
            "Epoch 22 Batch 100 Loss 0.0347\n",
            "Epoch 22 Batch 200 Loss 0.0183\n",
            "Epoch 22 Loss 0.0603\n",
            "Time taken for 1 epoch 33.80 sec\n",
            "\n",
            "Epoch 23 Batch 0 Loss 0.0493\n",
            "Epoch 23 Batch 100 Loss 0.0314\n",
            "Epoch 23 Batch 200 Loss 0.0402\n",
            "Epoch 23 Loss 0.0535\n",
            "Time taken for 1 epoch 33.81 sec\n",
            "\n",
            "Epoch 24 Batch 0 Loss 0.0445\n",
            "Epoch 24 Batch 100 Loss 0.0585\n",
            "Epoch 24 Batch 200 Loss 0.0599\n",
            "Epoch 24 Loss 0.0506\n",
            "Time taken for 1 epoch 33.81 sec\n",
            "\n",
            "Epoch 25 Batch 0 Loss 0.0141\n",
            "Epoch 25 Batch 100 Loss 0.0872\n",
            "Epoch 25 Batch 200 Loss 0.0167\n",
            "Epoch 25 Loss 0.0541\n",
            "Time taken for 1 epoch 33.89 sec\n",
            "\n"
          ]
        }
      ]
    },
    {
      "cell_type": "markdown",
      "source": [
        "# 9. Evaluation Function\n",
        "\n",
        "A function to evaluate input sentences and generate predictions in Telugu is defined."
      ],
      "metadata": {
        "id": "jbYSWnwq29gM"
      }
    },
    {
      "cell_type": "code",
      "metadata": {
        "id": "o0sehhJFjZhE"
      },
      "source": [
        "def evaluate(sentence):\n",
        "  attention_plot = np.zeros((max_length_targ, max_length_inp))\n",
        "\n",
        "  sentence = preprocess(sentence)\n",
        "\n",
        "  inputs = [inp_lang.word_index[i] for i in sentence.split(' ')]\n",
        "  inputs = tf.keras.preprocessing.sequence.pad_sequences([inputs],maxlen=20, padding='post')\n",
        "  inputs = tf.convert_to_tensor(inputs)\n",
        "\n",
        "  result = ''\n",
        "\n",
        "  hidden = [tf.zeros((1, units))]\n",
        "  enc_out, enc_hidden = encoder(inputs, hidden)\n",
        "\n",
        "  dec_hidden = enc_hidden\n",
        "  dec_input = tf.expand_dims([targ_lang.word_index['<start>']], 0)\n",
        "\n",
        "  for t in range(max_length_targ):\n",
        "    predictions, dec_hidden, attention_weights = decoder(dec_input,\n",
        "                                                         dec_hidden,\n",
        "                                                         enc_out)\n",
        "    # storing the attention weights to plot later on\n",
        "    attention_weights = tf.reshape(attention_weights, (-1, ))\n",
        "    attention_plot[t] = attention_weights.numpy()\n",
        "    predicted_id = tf.argmax(predictions[0]).numpy()\n",
        "\n",
        "    result += targ_lang.index_word[predicted_id] + ' '\n",
        "\n",
        "    if targ_lang.index_word[predicted_id] == '<end>':\n",
        "      return result,attention_plot\n",
        "\n",
        "    # the predicted ID is fed back into the model\n",
        "    dec_input = tf.expand_dims([predicted_id], 0)\n",
        "\n",
        "  return result,attention_plot"
      ],
      "execution_count": 30,
      "outputs": []
    },
    {
      "cell_type": "markdown",
      "source": [
        "# 10. Sample Input Sentences and Predictions\n",
        "\n",
        "Two sample English sentences are provided, and their corresponding Telugu translations are generated using the trained model.\n",
        "\n"
      ],
      "metadata": {
        "id": "yzMIWBqB3GLr"
      }
    },
    {
      "cell_type": "code",
      "metadata": {
        "colab": {
          "base_uri": "https://localhost:8080/"
        },
        "id": "Z9pfZPH2Rl2o",
        "outputId": "ce744dec-91e3-4804-a2de-604cf68a7de3"
      },
      "source": [
        "input_sentence= 'please ensure that you use the appropriate form '\n",
        "print('Input sentence in english : ',input_sentence)\n",
        "predicted_output,attention_plot=evaluate(input_sentence)\n",
        "print('Predicted sentence in telugu : ',predicted_output)"
      ],
      "execution_count": 31,
      "outputs": [
        {
          "output_type": "stream",
          "name": "stdout",
          "text": [
            "Input sentence in english :  please ensure that you use the appropriate form \n",
            "Predicted sentence in telugu :  దయచేసి మీరు తగిన ఫారమ్‌ను ఉపయోగిస్తున్నారని నిర్ధారించుకోండి <end> \n"
          ]
        }
      ]
    },
    {
      "cell_type": "code",
      "metadata": {
        "colab": {
          "base_uri": "https://localhost:8080/"
        },
        "id": "4z2NmL-vTCDr",
        "outputId": "572c44e1-807d-4133-e6e9-72042c36dba0"
      },
      "source": [
        "input_sentence=\"So I decided I'm going to sell this new machine\"\n",
        "print('Input sentence in english : ',input_sentence)\n",
        "predicted_output,attention_plot=evaluate(input_sentence)\n",
        "print('Predicted sentence in telugu : ',predicted_output)"
      ],
      "execution_count": 39,
      "outputs": [
        {
          "output_type": "stream",
          "name": "stdout",
          "text": [
            "Input sentence in english :  So I decided I'm going to sell this new machine\n",
            "Predicted sentence in telugu :  నేను ఈ కొత్త యంత్రాన్ని విక్రయించబోతున్నాను <end> \n"
          ]
        }
      ]
    },
    {
      "cell_type": "code",
      "source": [
        "input_sentence='due to this he refused to give in writing for his pardon ,even after his punishment was announced'\n",
        "print('Input sentence in english : ',input_sentence)\n",
        "predicted_output,attention_plot=evaluate(input_sentence)\n",
        "print('Predicted sentence in telugu : ',predicted_output)"
      ],
      "metadata": {
        "colab": {
          "base_uri": "https://localhost:8080/"
        },
        "id": "wRG5hjb2wrVq",
        "outputId": "f58e3b0a-0f63-4383-cc1b-a82af2415ccc"
      },
      "execution_count": 43,
      "outputs": [
        {
          "output_type": "stream",
          "name": "stdout",
          "text": [
            "Input sentence in english :  due to this he refused to give in writing for his pardon ,even after his punishment was announced\n",
            "Predicted sentence in telugu :  ఈ కారణంగా అతను తన క్షమాపణ కోసం లిఖితపూర్వకంగా ఇవ్వడానికి నిరాకరించాడు <end> \n"
          ]
        }
      ]
    },
    {
      "cell_type": "markdown",
      "source": [
        "# 11. Saving the model i.e encoder and decoder designed"
      ],
      "metadata": {
        "id": "NHcIrSLQ3JxS"
      }
    },
    {
      "cell_type": "code",
      "source": [
        "from google.colab import drive\n",
        "drive.mount('/content/drive')\n",
        "\n",
        "# Save the models\n",
        "encoder.save('/content/drive/MyDrive/Eng_Tel_encoder_model')\n",
        "decoder.save('/content/drive/MyDrive/Eng_Tel_decoder_model')"
      ],
      "metadata": {
        "colab": {
          "base_uri": "https://localhost:8080/"
        },
        "id": "bW5bCFd0xYrz",
        "outputId": "3af734db-1996-4e4e-d921-3f0fe625868c"
      },
      "execution_count": 44,
      "outputs": [
        {
          "output_type": "stream",
          "name": "stdout",
          "text": [
            "Mounted at /content/drive\n"
          ]
        }
      ]
    },
    {
      "cell_type": "markdown",
      "source": [
        "# 12 . FUnction to Find Accuracy of the predictions"
      ],
      "metadata": {
        "id": "J58lnnoY3P7R"
      }
    },
    {
      "cell_type": "code",
      "source": [
        "# Function to evaluate BLEU score\n",
        "def calculate_bleu_score(reference, candidate):\n",
        "    return bleu.sentence_bleu([reference.split()], candidate.split())\n",
        "\n",
        "# Function to evaluate accuracy\n",
        "def evaluate_accuracy(input_sentence, target_sentence):\n",
        "    predicted_output, _ = evaluate(input_sentence)\n",
        "    bleu_score = calculate_bleu_score(target_sentence, predicted_output)\n",
        "    return bleu_score\n",
        "\n",
        "# Example usage to evaluate accuracy\n",
        "input_sentence = 'due to this he refused to give in writing for his pardon ,even after his punishment was announced'\n",
        "target_sentence = '<start> ఈ కారణంగా అతను తన క్షమాపణ కోసం లిఖితపూర్వకంగా ఇవ్వడానికి నిరాకరించాడు <end> '\n",
        "accuracy = evaluate_accuracy(input_sentence, target_sentence)\n",
        "print(\"BLEU Score:\", accuracy)"
      ],
      "metadata": {
        "colab": {
          "base_uri": "https://localhost:8080/"
        },
        "id": "WHpc3_zYzrpb",
        "outputId": "77e7e240-cca1-45f1-d247-27482497193b"
      },
      "execution_count": 45,
      "outputs": [
        {
          "output_type": "stream",
          "name": "stdout",
          "text": [
            "BLEU Score: 0.9048374180359595\n"
          ]
        }
      ]
    },
    {
      "cell_type": "code",
      "source": [
        "# Example usage to evaluate accuracy\n",
        "input_sentence = \" So I decided I'm going to sell this new machine\"\n",
        "target_sentence = '<start> నేను ఈ కొత్త యంత్రాన్ని విక్రయించబోతున్నాను  <end> '\n",
        "accuracy = evaluate_accuracy(input_sentence, target_sentence)\n",
        "print(\"BLEU Score:\", accuracy)"
      ],
      "metadata": {
        "colab": {
          "base_uri": "https://localhost:8080/"
        },
        "id": "c45fKhj30E7i",
        "outputId": "1be52769-2f12-4230-d91c-14e0326d2885"
      },
      "execution_count": 46,
      "outputs": [
        {
          "output_type": "stream",
          "name": "stdout",
          "text": [
            "BLEU Score: 0.846481724890614\n"
          ]
        }
      ]
    },
    {
      "cell_type": "code",
      "source": [
        "# Example usage to evaluate accuracy\n",
        "input_sentence = \" please ensure that you use the appropriate form\"\n",
        "target_sentence = '<start> దయచేసి మీరు తగిన ఫారమ్‌ను ఉపయోగిస్తున్నారని నిర్ధారించుకోండి <end> '\n",
        "accuracy = evaluate_accuracy(input_sentence, target_sentence)\n",
        "print(\"BLEU Score:\", accuracy)"
      ],
      "metadata": {
        "colab": {
          "base_uri": "https://localhost:8080/"
        },
        "id": "AEMHJwaJ0a9e",
        "outputId": "bd99ff04-b0dd-4a88-d5d4-a81ee2f1bd80"
      },
      "execution_count": 47,
      "outputs": [
        {
          "output_type": "stream",
          "name": "stdout",
          "text": [
            "BLEU Score: 0.8668778997501817\n"
          ]
        }
      ]
    },
    {
      "cell_type": "code",
      "source": [
        "input_sentence=\"We may need to ask you about your background and look at any official documents you have to support the information you give .\"\n",
        "print('Input sentence in english : ',input_sentence)\n",
        "predicted_output,attention_plot=evaluate(input_sentence)\n",
        "print('Predicted sentence in telugu : ',predicted_output)\n",
        "accuracy = evaluate_accuracy(input_sentence, predicted_output)\n",
        "print(\"BLEU Score : \",accuracy)"
      ],
      "metadata": {
        "colab": {
          "base_uri": "https://localhost:8080/"
        },
        "id": "6LIbQNkw0o3c",
        "outputId": "97414905-1a04-4a3d-f105-74fa265e4a93"
      },
      "execution_count": 51,
      "outputs": [
        {
          "output_type": "stream",
          "name": "stdout",
          "text": [
            "Input sentence in english :  We may need to ask you about your background and look at any official documents you have to support the information you give .\n",
            "Predicted sentence in telugu :  మీ నేపథ్యం గురించి మేము మిమ్మల్ని అడగాలి మరియు మేము ఇచ్చే సమాచారానికి మద్దతు ఇవ్వవలసిన అధికారిక పత్రాలను చూడండి <end> \n",
            "BLEU Score :  1.0\n"
          ]
        }
      ]
    }
  ]
}