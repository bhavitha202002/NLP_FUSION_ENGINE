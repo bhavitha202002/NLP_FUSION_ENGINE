{
  "nbformat": 4,
  "nbformat_minor": 0,
  "metadata": {
    "colab": {
      "provenance": [],
      "gpuType": "T4"
    },
    "kernelspec": {
      "name": "python3",
      "display_name": "Python 3"
    },
    "language_info": {
      "name": "python"
    },
    "accelerator": "GPU"
  },
  "cells": [
    {
      "cell_type": "code",
      "execution_count": null,
      "metadata": {
        "colab": {
          "base_uri": "https://localhost:8080/"
        },
        "id": "-3zoyFMqHtnH",
        "outputId": "e772f9c5-fff8-4d76-ec45-8619f893365d"
      },
      "outputs": [
        {
          "output_type": "stream",
          "name": "stdout",
          "text": [
            "Requirement already satisfied: transformers in /usr/local/lib/python3.10/dist-packages (4.37.2)\n",
            "Requirement already satisfied: torch in /usr/local/lib/python3.10/dist-packages (2.1.0+cu121)\n",
            "Requirement already satisfied: filelock in /usr/local/lib/python3.10/dist-packages (from transformers) (3.13.1)\n",
            "Requirement already satisfied: huggingface-hub<1.0,>=0.19.3 in /usr/local/lib/python3.10/dist-packages (from transformers) (0.20.3)\n",
            "Requirement already satisfied: numpy>=1.17 in /usr/local/lib/python3.10/dist-packages (from transformers) (1.23.5)\n",
            "Requirement already satisfied: packaging>=20.0 in /usr/local/lib/python3.10/dist-packages (from transformers) (23.2)\n",
            "Requirement already satisfied: pyyaml>=5.1 in /usr/local/lib/python3.10/dist-packages (from transformers) (6.0.1)\n",
            "Requirement already satisfied: regex!=2019.12.17 in /usr/local/lib/python3.10/dist-packages (from transformers) (2023.12.25)\n",
            "Requirement already satisfied: requests in /usr/local/lib/python3.10/dist-packages (from transformers) (2.31.0)\n",
            "Requirement already satisfied: tokenizers<0.19,>=0.14 in /usr/local/lib/python3.10/dist-packages (from transformers) (0.15.1)\n",
            "Requirement already satisfied: safetensors>=0.4.1 in /usr/local/lib/python3.10/dist-packages (from transformers) (0.4.2)\n",
            "Requirement already satisfied: tqdm>=4.27 in /usr/local/lib/python3.10/dist-packages (from transformers) (4.66.1)\n",
            "Requirement already satisfied: typing-extensions in /usr/local/lib/python3.10/dist-packages (from torch) (4.9.0)\n",
            "Requirement already satisfied: sympy in /usr/local/lib/python3.10/dist-packages (from torch) (1.12)\n",
            "Requirement already satisfied: networkx in /usr/local/lib/python3.10/dist-packages (from torch) (3.2.1)\n",
            "Requirement already satisfied: jinja2 in /usr/local/lib/python3.10/dist-packages (from torch) (3.1.3)\n",
            "Requirement already satisfied: fsspec in /usr/local/lib/python3.10/dist-packages (from torch) (2023.6.0)\n",
            "Requirement already satisfied: triton==2.1.0 in /usr/local/lib/python3.10/dist-packages (from torch) (2.1.0)\n",
            "Requirement already satisfied: MarkupSafe>=2.0 in /usr/local/lib/python3.10/dist-packages (from jinja2->torch) (2.1.5)\n",
            "Requirement already satisfied: charset-normalizer<4,>=2 in /usr/local/lib/python3.10/dist-packages (from requests->transformers) (3.3.2)\n",
            "Requirement already satisfied: idna<4,>=2.5 in /usr/local/lib/python3.10/dist-packages (from requests->transformers) (3.6)\n",
            "Requirement already satisfied: urllib3<3,>=1.21.1 in /usr/local/lib/python3.10/dist-packages (from requests->transformers) (2.0.7)\n",
            "Requirement already satisfied: certifi>=2017.4.17 in /usr/local/lib/python3.10/dist-packages (from requests->transformers) (2024.2.2)\n",
            "Requirement already satisfied: mpmath>=0.19 in /usr/local/lib/python3.10/dist-packages (from sympy->torch) (1.3.0)\n"
          ]
        }
      ],
      "source": [
        "# First upload the training and evaluation files to this runtime (Press connect if needed)\n",
        "!pip install transformers torch"
      ]
    },
    {
      "cell_type": "code",
      "source": [
        "import logging\n",
        "import math\n",
        "import os\n",
        "from dataclasses import dataclass, field\n",
        "from typing import Optional\n",
        "\n",
        "from transformers import (\n",
        "    CONFIG_MAPPING,\n",
        "    MODEL_WITH_LM_HEAD_MAPPING,\n",
        "    AutoConfig,\n",
        "    GPT2LMHeadModel,\n",
        "    AutoTokenizer,\n",
        "    DataCollatorForLanguageModeling,\n",
        "    LineByLineTextDataset,\n",
        "    PreTrainedTokenizer,\n",
        "    TextDataset,\n",
        "    Trainer,\n",
        "    TrainingArguments,\n",
        "    set_seed,\n",
        ")\n",
        "\n",
        "# Setup logging\n",
        "logger = logging.getLogger(__name__)\n",
        "\n",
        "# Get access to model types and model configs to select GPT2 model and config\n",
        "MODEL_CONFIG_CLASSES = list(MODEL_WITH_LM_HEAD_MAPPING.keys())\n",
        "MODEL_TYPES = tuple(conf.model_type for conf in MODEL_CONFIG_CLASSES)\n",
        "\n"
      ],
      "metadata": {
        "id": "ihb_jZIqH1ee"
      },
      "execution_count": null,
      "outputs": []
    },
    {
      "cell_type": "code",
      "source": [
        "@dataclass\n",
        "class ModelArguments:\n",
        "    \"\"\"\n",
        "    Arguments pertaining to which model/config/tokenizer we are going to fine-tune, or train from scratch.\n",
        "    \"\"\"\n",
        "\n",
        "    model_name_or_path: Optional[str] = field(\n",
        "        default=None,\n",
        "        metadata={\n",
        "            \"help\": \"The model checkpoint for weights initialization. Leave None if you want to train a model from scratch.\"\n",
        "        },\n",
        "    )\n",
        "    model_type: Optional[str] = field(\n",
        "        default=None,\n",
        "        metadata={\n",
        "            \"help\": \"If training from scratch, pass a model type from the list: \"\n",
        "            + \", \".join(MODEL_TYPES)\n",
        "        },\n",
        "    )\n",
        "    cache_dir: Optional[str] = field(\n",
        "        default=None,\n",
        "        metadata={\n",
        "            \"help\": \"Where do you want to store the pretrained models downloaded from s3\"\n",
        "        },\n",
        "    )\n"
      ],
      "metadata": {
        "id": "0n2hvXNiH_sb"
      },
      "execution_count": null,
      "outputs": []
    },
    {
      "cell_type": "code",
      "source": [
        "@dataclass\n",
        "class DataTrainingArguments:\n",
        "    \"\"\"\n",
        "    Arguments pertaining to what data we are going to input our model for training and eval.\n",
        "    \"\"\"\n",
        "\n",
        "    train_data_file: Optional[str] = field(\n",
        "        default=None, metadata={\"help\": \"The input training data file (a text file).\"}\n",
        "    )\n",
        "    eval_data_file: Optional[str] = field(\n",
        "        default=None,\n",
        "        metadata={\n",
        "            \"help\": \"An optional input evaluation data file to evaluate the perplexity on (a text file).\"\n",
        "        },\n",
        "    )\n",
        "    line_by_line: bool = field(\n",
        "        default=False,\n",
        "        metadata={\n",
        "            \"help\": \"Whether distinct lines of text in the dataset are to be handled as distinct sequences.\"\n",
        "        },\n",
        "    )\n",
        "\n",
        "    mlm: bool = field(\n",
        "        default=False,\n",
        "        metadata={\n",
        "            \"help\": \"Train with masked-language modeling loss instead of language modeling.\"\n",
        "        },\n",
        "    )\n",
        "\n",
        "    block_size: int = field(\n",
        "        default=-1,\n",
        "        metadata={\n",
        "            \"help\": \"Optional input sequence length after tokenization.\"\n",
        "            \"The training dataset will be truncated in block of this size for training.\"\n",
        "            \"Default to the model max input length for single sentence inputs (take into account special tokens).\"\n",
        "        },\n",
        "    )\n",
        "    overwrite_cache: bool = field(\n",
        "        default=False,\n",
        "        metadata={\"help\": \"Overwrite the cached training and evaluation sets\"},\n",
        "    )\n",
        "\n"
      ],
      "metadata": {
        "id": "3Hb6lB1jIAhp"
      },
      "execution_count": null,
      "outputs": []
    },
    {
      "cell_type": "code",
      "source": [
        "# Create LineByLineDataset from Movie Plots text file\n",
        "def get_dataset(\n",
        "    args: DataTrainingArguments, tokenizer: PreTrainedTokenizer, evaluate=False\n",
        "):\n",
        "    file_path = args.eval_data_file if evaluate else args.train_data_file\n",
        "    if args.line_by_line:\n",
        "        return LineByLineTextDataset(\n",
        "            tokenizer=tokenizer, file_path=file_path, block_size=args.block_size\n",
        "        )\n",
        "    else:\n",
        "        return TextDataset(\n",
        "            tokenizer=tokenizer,\n",
        "            file_path=file_path,\n",
        "            block_size=args.block_size,\n",
        "            overwrite_cache=args.overwrite_cache,\n",
        "        )\n"
      ],
      "metadata": {
        "id": "J5uDK7GCIEeL"
      },
      "execution_count": null,
      "outputs": []
    },
    {
      "cell_type": "code",
      "source": [
        "def main():\n",
        "\n",
        "    model_args = ModelArguments(\n",
        "        model_name_or_path=\"gpt2\", model_type=\"gpt2\"\n",
        "    )\n",
        "    data_args = DataTrainingArguments(\n",
        "        train_data_file=\"6_genre_clean_training_data.txt\",\n",
        "        eval_data_file=\"6_genre_eval_data.txt\",\n",
        "        line_by_line=True,\n",
        "        block_size=512,\n",
        "        overwrite_cache=True,\n",
        "    )\n",
        "    training_args = TrainingArguments(\n",
        "        output_dir=\"story_generator_checkpoint\",\n",
        "        overwrite_output_dir=True,\n",
        "        do_train=True,\n",
        "        do_eval=True,\n",
        "\n",
        "        logging_steps=500,\n",
        "        per_device_train_batch_size=4,\n",
        "        num_train_epochs=3,\n",
        "        save_total_limit=1,\n",
        "        save_steps=1000,\n",
        "    )\n",
        "\n",
        "    if data_args.eval_data_file is None and training_args.do_eval:\n",
        "        raise ValueError(\n",
        "            \"Cannot do evaluation without an evaluation data file. Either supply a file to --eval_data_file \"\n",
        "            \"or remove the --do_eval argument.\"\n",
        "        )\n",
        "\n",
        "    if (\n",
        "        os.path.exists(training_args.output_dir)\n",
        "        and os.listdir(training_args.output_dir)\n",
        "        and training_args.do_train\n",
        "        and not training_args.overwrite_output_dir\n",
        "    ):\n",
        "        raise ValueError(\n",
        "            f\"Output directory ({training_args.output_dir}) already exists and is not empty. Use --overwrite_output_dir to overcome.\"\n",
        "        )\n",
        "\n",
        "    # Setup logging\n",
        "    logging.basicConfig(\n",
        "        format=\"%(asctime)s - %(levelname)s - %(name)s -   %(message)s\",\n",
        "        datefmt=\"%m/%d/%Y %H:%M:%S\",\n",
        "        level=logging.INFO if training_args.local_rank in [-1, 0] else logging.WARN,\n",
        "    )\n",
        "    logger.warning(\n",
        "        \"Process rank: %s, device: %s, n_gpu: %s, distributed training: %s, 16-bits training: %s\",\n",
        "        training_args.local_rank,\n",
        "        training_args.device,\n",
        "        training_args.n_gpu,\n",
        "        bool(training_args.local_rank != -1),\n",
        "        training_args.fp16,\n",
        "    )\n",
        "    logger.info(\"Training/evaluation parameters %s\", training_args)\n",
        "\n",
        "    # Set seed for deterministic training runs\n",
        "    set_seed(training_args.seed)\n",
        "\n",
        "\n",
        "    config = AutoConfig.from_pretrained(\n",
        "        model_args.model_name_or_path, cache_dir=model_args.cache_dir\n",
        "    )\n",
        "\n",
        "    tokenizer = AutoTokenizer.from_pretrained(\n",
        "        model_args.model_name_or_path, cache_dir=model_args.cache_dir\n",
        "    )\n",
        "\n",
        "    model = GPT2LMHeadModel.from_pretrained(\n",
        "        model_args.model_name_or_path,\n",
        "        from_tf=bool(\".ckpt\" in model_args.model_name_or_path),\n",
        "        config=config,\n",
        "        cache_dir=model_args.cache_dir,\n",
        "    )\n",
        "\n",
        "    special_tokens_dict = {\n",
        "        \"bos_token\": \"<BOS>\",\n",
        "        \"eos_token\": \"<EOS>\",\n",
        "        \"pad_token\": \"<PAD>\",\n",
        "        \"additional_special_tokens\": [\n",
        "            \"<superhero>\",\n",
        "            \"<action>\",\n",
        "            \"<drama>\",\n",
        "            \"<thriller>\",\n",
        "            \"<horror>\",\n",
        "            \"<sci_fi>\",\n",
        "        ],\n",
        "    }\n",
        "\n",
        "    num_added_toks = tokenizer.add_special_tokens(special_tokens_dict)\n",
        "    model.resize_token_embeddings(len(tokenizer))\n",
        "\n",
        "    if data_args.block_size <= 0:\n",
        "      # If block_size <= 0, set it to max. possible value allowed by model\n",
        "        data_args.block_size = model.config.max_position_embeddings\n",
        "        #data_args.block_size = tokenizer.max_len\n",
        "    else:\n",
        "        #data_args.block_size = min(data_args.block_size, tokenizer.max_len)\n",
        "        data_args.block_size = min(data_args.block_size, model.config.max_position_embeddings)\n",
        "\n",
        "\n",
        "    # Get datasets\n",
        "\n",
        "    train_dataset = (\n",
        "        get_dataset(data_args, tokenizer=tokenizer) if training_args.do_train else None\n",
        "    )\n",
        "    eval_dataset = (\n",
        "        get_dataset(data_args, tokenizer=tokenizer, evaluate=True)\n",
        "        if training_args.do_eval\n",
        "        else None\n",
        "    )\n",
        "    data_collator = DataCollatorForLanguageModeling(\n",
        "        tokenizer=tokenizer,\n",
        "        mlm=data_args.mlm,\n",
        "    )\n",
        "\n",
        "    # Initialize our Trainer\n",
        "    trainer = Trainer(\n",
        "        model=model,\n",
        "        args=training_args,\n",
        "        data_collator=data_collator,\n",
        "        train_dataset=train_dataset,\n",
        "        eval_dataset=eval_dataset,\n",
        "        compute_metrics=None,\n",
        "    )\n",
        "\n",
        "    # Training\n",
        "    try:\n",
        "      if training_args.do_train:\n",
        "          model_path = (\n",
        "              model_args.model_name_or_path\n",
        "              if model_args.model_name_or_path is not None\n",
        "              and os.path.isdir(model_args.model_name_or_path)\n",
        "              else None\n",
        "          )\n",
        "          trainer.train(model_path=model_path)\n",
        "          trainer.save_model()\n",
        "          tokenizer.save_pretrained(training_args.output_dir)\n",
        "    except KeyboardInterrupt:\n",
        "      print(\"Saving model that was in the middle of training\")\n",
        "      trainer.save_model()\n",
        "      tokenizer.save_pretrained(training_args.output_dir)\n",
        "      return\n",
        "\n",
        "    # Evaluation\n",
        "    results = {}\n",
        "    if training_args.do_eval:\n",
        "        logger.info(\"*** Evaluate ***\")\n",
        "\n",
        "        eval_output = trainer.evaluate()\n",
        "\n",
        "        perplexity = math.exp(eval_output[\"eval_loss\"])\n",
        "        result = {\"perplexity\": perplexity}\n",
        "\n",
        "        output_eval_file = os.path.join(training_args.output_dir, \"eval_results_lm.txt\")\n",
        "        '''if trainer.is_world_master():\n",
        "            with open(output_eval_file, \"w\") as writer:\n",
        "                logger.info(\"***** Eval results *****\")\n",
        "                for key in sorted(result.keys()):\n",
        "                    logger.info(\"  %s = %s\", key, str(result[key]))\n",
        "                    writer.write(\"%s = %s\\n\" % (key, str(result[key])))'''\n",
        "        if trainer.args.local_rank in [-1, 0]:\n",
        "          with open(output_eval_file, \"w\") as writer:\n",
        "            logger.info(\"***** Eval results *****\")\n",
        "            for key in sorted(result.keys()):\n",
        "              logger.info(\"  %s = %s\", key, str(result[key]))\n",
        "              writer.write(\"%s = %s\\n\" % (key, str(result[key])))\n",
        "\n",
        "\n",
        "        results.update(result)\n",
        "\n",
        "    return results\n"
      ],
      "metadata": {
        "id": "7YoYghZZIGnC"
      },
      "execution_count": null,
      "outputs": []
    },
    {
      "cell_type": "code",
      "source": [
        "#!pip uninstall transformers accelerate\n",
        "#!pip install transformers[torch]\n"
      ],
      "metadata": {
        "id": "ZHQOAHixIIsP"
      },
      "execution_count": null,
      "outputs": []
    },
    {
      "cell_type": "code",
      "source": [
        "# Press the Run Cell button to the left to start training\n",
        "if __name__ == \"__main__\":\n",
        "    main()\n",
        "# To stop training and save model, press the same Run Cell button (now, it is the Interrupt Execution button)"
      ],
      "metadata": {
        "colab": {
          "base_uri": "https://localhost:8080/",
          "height": 199
        },
        "id": "xr92C6HRIKxi",
        "outputId": "cd3b7d73-7d78-4ab8-ffd5-2514141eb5dd"
      },
      "execution_count": null,
      "outputs": [
        {
          "output_type": "stream",
          "name": "stderr",
          "text": [
            "WARNING:__main__:Process rank: 0, device: cuda:0, n_gpu: 1, distributed training: True, 16-bits training: False\n",
            "/usr/local/lib/python3.10/dist-packages/transformers/trainer.py:1482: FutureWarning: `model_path` is deprecated and will be removed in a future version. Use `resume_from_checkpoint` instead.\n",
            "  warnings.warn(\n"
          ]
        },
        {
          "output_type": "display_data",
          "data": {
            "text/plain": [
              "<IPython.core.display.HTML object>"
            ],
            "text/html": [
              "\n",
              "    <div>\n",
              "      \n",
              "      <progress value='702' max='702' style='width:300px; height:20px; vertical-align: middle;'></progress>\n",
              "      [702/702 06:45, Epoch 3/3]\n",
              "    </div>\n",
              "    <table border=\"1\" class=\"dataframe\">\n",
              "  <thead>\n",
              " <tr style=\"text-align: left;\">\n",
              "      <th>Step</th>\n",
              "      <th>Training Loss</th>\n",
              "    </tr>\n",
              "  </thead>\n",
              "  <tbody>\n",
              "    <tr>\n",
              "      <td>500</td>\n",
              "      <td>4.023200</td>\n",
              "    </tr>\n",
              "  </tbody>\n",
              "</table><p>"
            ]
          },
          "metadata": {}
        },
        {
          "output_type": "display_data",
          "data": {
            "text/plain": [
              "<IPython.core.display.HTML object>"
            ],
            "text/html": [
              "\n",
              "    <div>\n",
              "      \n",
              "      <progress value='125' max='125' style='width:300px; height:20px; vertical-align: middle;'></progress>\n",
              "      [125/125 00:47]\n",
              "    </div>\n",
              "    "
            ]
          },
          "metadata": {}
        }
      ]
    },
    {
      "cell_type": "code",
      "source": [
        "# This cell is to style the Google Colab's output properly (Just blindly run this)\n",
        "from IPython.display import HTML, display\n",
        "\n",
        "def set_css():\n",
        "  display(HTML('''\n",
        "  <style>\n",
        "    pre {\n",
        "        white-space: pre-wrap;\n",
        "    }\n",
        "  </style>\n",
        "  '''))\n",
        "get_ipython().events.register('pre_run_cell', set_css)"
      ],
      "metadata": {
        "id": "JBQnYI4SIQ1f"
      },
      "execution_count": null,
      "outputs": []
    },
    {
      "cell_type": "code",
      "source": [
        "# Run these cells for story generation\n",
        "from transformers import pipeline, TextGenerationPipeline, GPT2LMHeadModel, AutoTokenizer\n",
        "\n",
        "\"\"\"\n",
        "Below, my model checkpoint is commented out. You can replace your checkpoint\n",
        "with that to test story generation if your checkpoint didn't train for long enough\n",
        "\"\"\"\n",
        "#checkpoint = \"pranavpsv/gpt2-genre-story-generator\"\n",
        "checkpoint = \"story_generator_checkpoint\"\n",
        "\n",
        "model = GPT2LMHeadModel.from_pretrained(checkpoint)\n",
        "tokenizer = AutoTokenizer.from_pretrained(checkpoint)\n",
        "story_generator = TextGenerationPipeline(model=model, tokenizer=tokenizer)\n",
        "# The format for input_prompt: \"<BOS> <genre> Optional text...\"\n",
        "# Supported genres: superhero, sci_fi, horror, thriller, action, drama"
      ],
      "metadata": {
        "colab": {
          "base_uri": "https://localhost:8080/",
          "height": 34
        },
        "id": "y35UoRUoIRn9",
        "outputId": "f3f5db9d-5862-4dfb-eb7b-f8afd6dadb0a"
      },
      "execution_count": null,
      "outputs": [
        {
          "output_type": "display_data",
          "data": {
            "text/plain": [
              "<IPython.core.display.HTML object>"
            ],
            "text/html": [
              "\n",
              "  <style>\n",
              "    pre {\n",
              "        white-space: pre-wrap;\n",
              "    }\n",
              "  </style>\n",
              "  "
            ]
          },
          "metadata": {}
        },
        {
          "output_type": "stream",
          "name": "stderr",
          "text": [
            "Special tokens have been added in the vocabulary, make sure the associated word embeddings are fine-tuned or trained.\n"
          ]
        }
      ]
    },
    {
      "cell_type": "code",
      "source": [
        "input_prompt = \"<BOS> <horror>\"\n",
        "story = story_generator(input_prompt, max_length=400, do_sample=True,\n",
        "               repetition_penalty=1.1, temperature=1.2,\n",
        "               top_p=0.95, top_k=50)"
      ],
      "metadata": {
        "colab": {
          "base_uri": "https://localhost:8080/",
          "height": 34
        },
        "id": "PXWTEnbjIUOf",
        "outputId": "9f7185e9-7b77-41f9-b370-edce3b099b42"
      },
      "execution_count": null,
      "outputs": [
        {
          "output_type": "display_data",
          "data": {
            "text/plain": [
              "<IPython.core.display.HTML object>"
            ],
            "text/html": [
              "\n",
              "  <style>\n",
              "    pre {\n",
              "        white-space: pre-wrap;\n",
              "    }\n",
              "  </style>\n",
              "  "
            ]
          },
          "metadata": {}
        },
        {
          "output_type": "stream",
          "name": "stderr",
          "text": [
            "Setting `pad_token_id` to `eos_token_id`:50256 for open-end generation.\n"
          ]
        }
      ]
    },
    {
      "cell_type": "code",
      "source": [
        "print(story)"
      ],
      "metadata": {
        "colab": {
          "base_uri": "https://localhost:8080/",
          "height": 624
        },
        "id": "0jqSrx9aMR2W",
        "outputId": "bc39ecea-d1f1-4b86-8278-876f23a37a0e"
      },
      "execution_count": null,
      "outputs": [
        {
          "output_type": "display_data",
          "data": {
            "text/plain": [
              "<IPython.core.display.HTML object>"
            ],
            "text/html": [
              "\n",
              "  <style>\n",
              "    pre {\n",
              "        white-space: pre-wrap;\n",
              "    }\n",
              "  </style>\n",
              "  "
            ]
          },
          "metadata": {}
        },
        {
          "output_type": "stream",
          "name": "stdout",
          "text": [
            "[{'generated_text': '<BOS> <horror> The next film in this trilogy, Fafnir and Venerable are locked away on the island of Kamahun by a man called King Jormok. Karmichaelasamy (Vinoy Dutta), who is known only as Sohriyoshi (\"The Man\"), takes command along with his servants to find out where all their hostages have disappeared off shore just now—but he thinks it\\'s nowhere near home: In some corners nearby there remains much mystery about whether they had anything better for them than leaving one person dead after another from malaria; also unknown outside here lurks how long the voyage lasted without someone finding food because life has been lost since then! During an unsuccessful search into that area both families agree but do not know their names or identities until late August through early October 1945 when Rani Gurdonai arrives alone at port while Nariman Singh sets up camp inside the seaway overlooking Kathmandu Bay once again before midnight so everyone can get ready if possible... Meanwhile Mughalakumari Rao becomes infatuated yet finds that he never found what Rami was looking under her tent door earlier which leads him quickly across country towards Mumbai en route even closer bank trip back down toward Amethi. With two brothers killed attempting something illegal on board these ships she soon sees why no one escapes ashore until Nandavimadi stops shooting at police station every time you come faceto-facewith her father during interrogation procedure till Janushukamalli leaves for Barony City with four other men instead leading court martial proceedings against many innocent people awaiting judgement.... The plot ends tragically killing Yarnapathy whose heartbroken family suffer terribly knowing nothing behind its tragic scenes except the fact Thammathi (Shajith Aghdashloo) actually runs deep love affair within society too!!! I am thrilled with my release from prison after serving 6 months\\' imprisonment! It finally clears me & brings hope back to Sri Lanka - the beautiful place I always dreamedI\\'m delighted \"Asuna\" dies still alive in jailAnd Ranga agrees together saying, \"In order help us save our childrenAwa Malinda must pass\". As though nobody could resist bringing an end result we give the option ending death sentence with \\'Dhaiva\\'. Now more lives will be saved.  Backtracking forward, Vasudeva enters Harpuriya temple holding various magical items whilst being captured due trouble trying suicide attempt of Sarojna Ratnamini(Venkaiah Murthy). Upon arriving at Chatterjee village Bhupada river crossing stands empty water bottle overflowing causing several deaths including Babaji Nagarjun Kapoor seeking safety around Shampanagar cityLucky Baloo appears alongside Krishna giving orders among others etc.. One day Madurai decides upon saving entire world from collapse like this Rajiv Gandhi saves India. Once Karala tries explaining Shiva Mahabharata won\\'t fly over Himachal Pradesh, But Ramanujan gives directions as Guru Subhasimalvayana directs Himagiri Dasdevja Swapanatha as leader Pranav Bandybara does battle eachothers fights Ravanna Devi destroying gods themselvesAfter doing havoc and rescue Meena Yadappa returns full strength and invades Heraklekar district to make power base for Brahmin populationDevantra destroys temples and kills himself devanting Lakshmi in front half His followers break apart She begs VishnuNandanjain Deva Khan For aid she shoots Vishnu but despite winning victory she loses Hindu religionHe manages first destruction caused loss of human flesh but defeats Lord Shyrama Parthasarkaran Then Indra asks Devasa Vaishnaviji Godfather for money Advising Vishva Prahara He succeeds but Kali forces godliness further demonism attacks Himaga Punjeet Vikram Surjewaan makes way between places Ashuromuthu Priyadgambhava shows signs of having left everything in ruins with Shivartu falling asleep and coming downstairsWith instructions provided by guru Sakti Saraswati Bose offering protection scheme Krishna awakens Shiva making attack but defeat proves fatal. Aftermath All goes well but Satyameela fails test but falls mortally wounded and crashes onto Ganesh Karnaya dying later Agamasama realizes she needs new miracle potion that heals sickness ailments And discovers Shakti Tarevi, brother Mithigene works separately teaming Anilipuramanath Mitragranathan creates force field to stop Ganesh taking divine powers but collapses again when realizing he cannot conquer New Kingdom would destroy most planet creating curse Raheem uses spiritual cure substance Rahelwal believes it might bring peace and healing Hope causes hero Harsher Sahitywan starts rescuing her mother who doesn easy tasks while searching Pantaghravastubanantha learns it wasn real reality but slips wrong word when asking her why Shiva failed sacrifice made to appease evil deities and who created earth and created water Rahaben joins group of angels helping'}]\n"
          ]
        }
      ]
    },
    {
      "cell_type": "code",
      "source": [
        "input_prompt = \"<BOS> <action>\"\n",
        "story = story_generator(input_prompt, max_length=400, do_sample=True,\n",
        "               repetition_penalty=1.1, temperature=1.2,\n",
        "               top_p=0.95, top_k=50)"
      ],
      "metadata": {
        "colab": {
          "base_uri": "https://localhost:8080/",
          "height": 34
        },
        "id": "TOcLKI-_K6lN",
        "outputId": "d17c1e54-e2bb-4f3a-dfd0-7007735a966c"
      },
      "execution_count": null,
      "outputs": [
        {
          "output_type": "display_data",
          "data": {
            "text/plain": [
              "<IPython.core.display.HTML object>"
            ],
            "text/html": [
              "\n",
              "  <style>\n",
              "    pre {\n",
              "        white-space: pre-wrap;\n",
              "    }\n",
              "  </style>\n",
              "  "
            ]
          },
          "metadata": {}
        },
        {
          "output_type": "stream",
          "name": "stderr",
          "text": [
            "Setting `pad_token_id` to `eos_token_id`:50256 for open-end generation.\n"
          ]
        }
      ]
    },
    {
      "cell_type": "code",
      "source": [
        "print(story)"
      ],
      "metadata": {
        "colab": {
          "base_uri": "https://localhost:8080/",
          "height": 763
        },
        "id": "v-TTc4_aNCGM",
        "outputId": "cb6ee3fe-d69c-4698-a563-58ab79565017"
      },
      "execution_count": null,
      "outputs": [
        {
          "output_type": "display_data",
          "data": {
            "text/plain": [
              "<IPython.core.display.HTML object>"
            ],
            "text/html": [
              "\n",
              "  <style>\n",
              "    pre {\n",
              "        white-space: pre-wrap;\n",
              "    }\n",
              "  </style>\n",
              "  "
            ]
          },
          "metadata": {}
        },
        {
          "output_type": "stream",
          "name": "stdout",
          "text": [
            "[{'generated_text': '<BOS> <action> The film opens in New York City. A young reporter named Mark Thorne (David Crane) goes to a radio broadcast for an expose on how the country revolves, having been forced into political asylum by President John Fink of France after World War I and has lost many friends including members-in prison he helped escape via railroad crossing during this time without any incident since entering US military service as commander from 1935 until 1940 when his family went undersecretary at Rolleo Ghetto Nationalities before returning home unharmed but still lacking funds despite repeated pleas between men not do what they are commanded – write that some illegal immigrants become \"the masters\". They end up with little power except control over their own destiny within one set system - government while it is owned both privately controlled states like England where everyone was ruled strictly by each other or America through corporate rule which controls everything outside domestic use due mainly public nuisance lawsuits, resulting thus causing severe social upheaval among people in certain areas across society most affected even more deeply and riots throughout Europe resulting eventually being stopped all down Pennsylvania\\'s Madison Avenue/Green Bank Square area and nearly every large city along its line although some notable local landmarks appearing only briefly are Philadelphia Heights Corner(a small theater celebrating George Heston), Franklin Ave., Westside Docks Street NorthWest Mall Eastview Building; Jefferson Cemetery Park near Central Hall Hotel Dracente Market Circus; Upper Branch Church & Museum featuring Elvis Presley concert performances; St Marys Temple Music Festival, San Gabriel Plaza restaurant location inside Washington Shriners Tower overlooking Roosevelt Bridge Hospitality Center; Tanners Ferry Station where trains were introduced for business flight outbound; Venice Beach shopping mall adjacent buildings included several subway stations offering direct transportation from Rome directly to Manhattan via express car line; Atlantic Ocean beachfront condos located next door also serving Italian cuisine served fresh lobster bites in honorOf course there have already had Times Square and Central Post lines available which means access would greatly benefit citizens worldwide who might otherwise languish behind bars During last night show Mr Howard Bellamy comes knocking upon doors asking for tickets To ensure everyone gets an advance shot someone needs money printed off paper so anyone can sign up to speak English with no fear then be fingerprinted by passing an undercover police officer. When Mayor McGinn reaches office he announces changes requiring that a single photograph must pass first hand if somebody breaks either section rather than needing your fingerprints instead getting you arrested as well forcing others know exactly when security guards arrive and will act promptly If hired armed thugs come and demand private property, ask for permission unless specifically told beforehand How long does town hall work? No answer given till closing times get close again Once a debate occurs when Mrs Thatcher criticises Mr Howard\\'s suggestion about allowing women involved include policemen using lethal weapons and demanding that every woman is executed anyway regardless whether they give birthrightnal consent in the form required for such acts The party runs short because of problems following events caused especially earlier incidents of gun battles leading King Wilfrid Laurier Sr.\\'er shooting himself accidentally while sitting upstairs whilst attempting suicide By wayof explaining why these things took place once she realizes her husband did fire herself dead She continues: At tonight stage we see another side effect which seems related simplyto taking pictures taken remotely though this results In order make sure you take good care never mistake those pictures for real when talking publicly Harold Clark wakes him unexpectedly in bed by saying goodbye hoping none could ever find William Cowperville Before finding out where William lives Harold leaves Harry holding Percy beside Henry Smith wearing underwear carrying papers He returns looking relieved but unable explain What causes Harvey Wilson \\'torturing\\' Harlow Palmer This scene appears identical going forward until Harold notices that the camera isn\\'t tracking him right now making Harvey turn it back on forever thereafter Harvey begins readingjusting harold’son‖ text messages again, seemingly waiting quite patiently For something approaching final passage he starts to tell lies claiming that nothing makes perfect sense yet leaving scenes unchanged until Harold ends questioning himself again telling them exactly how much happiness feels knowing neither Lord Orphannor nor the Count knows William really died On receiving these revelations Harold enters a state bordering almost absolute pandemonium filled bathroom full room screaming incoherently over instructions and threats ending abruptlywith shouts that send shockswave flooding past Harold sending shivers around bodies All in vain as Charles shoots another shocked girl with Winchester pellets While waiting for directions to follow his frantic movements Harold arrives late delivering evidence showing he used too frequent shotshearts falling into disarray just prior heading further away From midhour meeting with head honcho Richard Spencer who claims Oliver Cromwell led Nazi Germany and orders Operation Greyhounds he stops hunting altogether as planned His henchmen enter building seeking revenge against his employer Tony Wilde whom Terry Williams murdered by failing betrothed Helen Obergud killing three dogsHe attempts unsuccessfully trying run for sheriff arguing afterwards angrily persuading Toby Lewis ․The man who killed Terry is David Foster Wallace II, whose name bears resemblance however cannot stand Hilaire Lane III'}]\n"
          ]
        }
      ]
    },
    {
      "cell_type": "code",
      "source": [
        "input_prompt = \"<BOS> <drama>\"\n",
        "story = story_generator(input_prompt, max_length=400, do_sample=True,\n",
        "               repetition_penalty=1.1, temperature=1.2,\n",
        "               top_p=0.95, top_k=50)"
      ],
      "metadata": {
        "colab": {
          "base_uri": "https://localhost:8080/",
          "height": 34
        },
        "id": "kH11BnDlLTOw",
        "outputId": "71d4bc06-ea44-49b2-9075-27f6afd00331"
      },
      "execution_count": null,
      "outputs": [
        {
          "output_type": "display_data",
          "data": {
            "text/plain": [
              "<IPython.core.display.HTML object>"
            ],
            "text/html": [
              "\n",
              "  <style>\n",
              "    pre {\n",
              "        white-space: pre-wrap;\n",
              "    }\n",
              "  </style>\n",
              "  "
            ]
          },
          "metadata": {}
        },
        {
          "output_type": "stream",
          "name": "stderr",
          "text": [
            "Setting `pad_token_id` to `eos_token_id`:50256 for open-end generation.\n"
          ]
        }
      ]
    },
    {
      "cell_type": "code",
      "source": [
        "print(story)"
      ],
      "metadata": {
        "colab": {
          "base_uri": "https://localhost:8080/",
          "height": 728
        },
        "id": "kCQ_LWQcNNFi",
        "outputId": "dc35d692-01a2-4b05-a222-93b88b9285c1"
      },
      "execution_count": null,
      "outputs": [
        {
          "output_type": "display_data",
          "data": {
            "text/plain": [
              "<IPython.core.display.HTML object>"
            ],
            "text/html": [
              "\n",
              "  <style>\n",
              "    pre {\n",
              "        white-space: pre-wrap;\n",
              "    }\n",
              "  </style>\n",
              "  "
            ]
          },
          "metadata": {}
        },
        {
          "output_type": "stream",
          "name": "stdout",
          "text": [
            "[{'generated_text': '<BOS> <drama> \"A child comes home from school at night with her mom. He\\'s been eating a turkey while driving and wants the boy to make an account in one of these paper letters he\\'d gotten for him\". The mother decides that it is rude if she goes outside by herself, so they both pack everything away: toothpaste; sugar cubes/sweet gumdrops (no soda); pencils as penises during morning breaks & when Mrs Oakes has gone on business break but not yet ready them before going upstairs; milk bottles containing some unsponging salts etc \\'out\\', because of health concerns which leads all students about being seduced again (\"It may be bad luck or greed\"). She doesn\\'t know how many drinks are left inside until two hours drive past their house where children cry over missing foodstuffs due just trying things out without money - presumably after having done something inappropriate like playing pool together instead wearing red-brained shirts only too long later falling back asleep looking miserable afterwards) Then another day follows... One final time brings excitement beyond dreams, thanksgiving presents gifts via cupboard, chocolate boxes under his bedside table near empty glasses reading bookshelf pages written entirely prior orders, toys including miniature mini dogs played fetchoo by Tom Hooper who seems annoyed most everyone else does whatever the parents decide best fits this particular child perfectly well(the dad gets involved anyway), tea tree roots planted in different places throughout Harry Manor building have become partofrifts into space allowing people living next door better opportunity than never ever would experience otherwise! This story is set off through various events beginning between chapter eight 692\\' ending line 906\" leaving behind scenes evidence clues hinting further down leading up episodes 711\\' opening lines indicating more characters then appearances of character flaws and even what could reasonably happen to every single person present throughout first few years were actually real cases involving young kids suffering horribly wronged relatives whom did actual work themselves onto several others attempting similar tricks(but not knowing why) along way finding witnesses giving instructions telling lies about certain family members doing strange job functions(some believing someone sent evil agents to kill witches for plotting against King Voldemort personally). There appear clear motives behind Snape discovering there was indeed activity organised towards Draco Malfoy and taking part despite those suspicions seeming unconvincingly baseless.\"\\xa0  While sleeping Drumford wakes Hermione Granger whose father works mainly maintenance jobs. Meanwhile James Bellatrix Potter becomes aware recently Hogwarts School Minister Daphne McGonagall knows about Professor Umbridge using forceps attack method used often since ancient Egypt causing curse spells to come out repeatedly among wizards within moments – however Ginny believes this to occur secretly based upon Dumbledore asking him for directions shortly thereafter making sure it had nothing bearing On Ron hearing Dementors are able see through wards preventing magic travel through objects with eyes covering large areas In fact Hermione discovers Ron knew something very odd about potions beforehand as well As the second half occurs early parts bring out other developments suchas growing information made impossible almost immediately in front desk drawer to show how much Professor Quirrell learned Of course Snape cannot tell apart magical creatures like dragons nor vice versa, but even so explains details around dragon forms such powers becoming increasingly mundane compared To date Luna Wunderduk uses telepathy also changing shape and disappearing After escaping from jail Marge visits Severus Stone regarding new scheme to give Potters hope That will reveal more information But Draco tells him to keep quiet and suggests we try stopping the Auror impersonating the wizard professor by accident as punishment So Snape informs him that it must go ahead as soon ratherthan delay the spell until the last minute And Muggles finally find Dumbledore speaking again, believing any chance given the Wizard died with malice then should use normal methods for confirming it (including teleportation though Dumbledore reveals that no Death Eater could physically harm Voldemort while Hermione still manages hide place, apparently ignoring warnings that Dark Lady Fawkes might somehow magically alter reality, thus turning Horcruxes into mummies but without direct indication.) It causes Neville Longbottom overhearing Snape say things related solely directly implicating Professor Tkachun explaining himself, which ends badly and creates serious doubt as to the validity’#6ca claims caused By coincidence Lucius Malfoy showsered whilst drunk recovering student Azula Hufflepuff leaves Professor Seamus Rosamund Janjaguar stating Ozpin told Lord Voldemort to destroy life threatening supermall Hellmouth makes itself apparent, which proves enough room allowed its power attacks on both students now cause great damage\\nOn arrival Harry hears Draco talking extensively in front office showing the effects seen following incidents as Slytherin looks confused, distracted saying nothing but snorting furiously, getting worried worrying notes on his laptop (and forgetting something) Headmaster Moody instructs Dean Winchester get Gryffindour and Imperius Slughorn. When informed Dudley reports to stay on guard Harry says Uncle Owen sees it takesbloody dementors 20 seconds longer Than Harry assumes Dalfi intends fire poisoning Hermione with acid'}]\n"
          ]
        }
      ]
    },
    {
      "cell_type": "code",
      "source": [
        "input_prompt = \"<BOS> <sci_fi>\"\n",
        "story = story_generator(input_prompt, max_length=400, do_sample=True,\n",
        "               repetition_penalty=1.1, temperature=1.2,\n",
        "               top_p=0.95, top_k=50)"
      ],
      "metadata": {
        "colab": {
          "base_uri": "https://localhost:8080/",
          "height": 34
        },
        "id": "frliQvu1NODy",
        "outputId": "8951828a-69ab-430e-8fb3-2458e4f9bd93"
      },
      "execution_count": null,
      "outputs": [
        {
          "output_type": "display_data",
          "data": {
            "text/plain": [
              "<IPython.core.display.HTML object>"
            ],
            "text/html": [
              "\n",
              "  <style>\n",
              "    pre {\n",
              "        white-space: pre-wrap;\n",
              "    }\n",
              "  </style>\n",
              "  "
            ]
          },
          "metadata": {}
        },
        {
          "output_type": "stream",
          "name": "stderr",
          "text": [
            "Setting `pad_token_id` to `eos_token_id`:50256 for open-end generation.\n"
          ]
        }
      ]
    },
    {
      "cell_type": "code",
      "source": [
        "print(story)"
      ],
      "metadata": {
        "colab": {
          "base_uri": "https://localhost:8080/",
          "height": 607
        },
        "id": "Fh38RkzqNTZ-",
        "outputId": "86dcb8aa-c816-4e3a-c134-76be5ce4cfe5"
      },
      "execution_count": null,
      "outputs": [
        {
          "output_type": "display_data",
          "data": {
            "text/plain": [
              "<IPython.core.display.HTML object>"
            ],
            "text/html": [
              "\n",
              "  <style>\n",
              "    pre {\n",
              "        white-space: pre-wrap;\n",
              "    }\n",
              "  </style>\n",
              "  "
            ]
          },
          "metadata": {}
        },
        {
          "output_type": "stream",
          "name": "stdout",
          "text": [
            "[{'generated_text': '<BOS> <sci_fi> Purnima\\'s daughter and son Anandaras have two daughters at the same age that are under-led. One of her father has been brought up to marry some wealthy merchant Bhaskaran, who had taken advantage by taking away Amrita Devi (Venu Padtha) without permission from their parents as well; thus she must inherit half NCP funds when they reach this point—in an attempt not only for Chitra but also with hopes in acquiring more rights within Rameshwaram which was on loan till 2014 so he could buy property there if possible through other means.\" As per instructions given earlier(i), his land would come under control all along after obtaining proper permits first received from Chandniya Vidyarthaja Devsuryayukrishna Pradhaniah (Virishalaya Samani Javed). His new owner should do business in India once a year rather than having it carried out in Bangalore or Delhi daily while receiving such loans from different lenders because no one in Rajaji City can lend anything else due responsibility associated both places where neither person will pay interest till 20 days ago nor during peak period. The house above is called Madhya Pradesh house now used mainly by businessmen based outside Mumbai owing money paid back to former landlords as well: Venuspalakshmi Manohini Lalamaan aka Venkali Jayaram becomes master even though none ever bothered him about buying part real estate. During these past couple months Vijayan Ashram gets many good notices showing himself happy with his situation including getting married already before becoming aware what went wrong with his inheritance. She goes hunting every night knowing how old wife Arthumathi Sonja Kumar cheated suicide several times and also meeting her husband Lakshminul Gupta Jr just last month did not go smoothly since there were others making bad plans. This comes across badly and threatens them financially too like Kolkata woman who tried doing blackmailing scheme Ramachandra Singh alias Venka Ranji instead does financial crimes towards someone trying hard harder etc In spite Krishna refuses bail much love flutters around among Vishmai Banerjee, Thackerah Malhotran Rao whom Krishnan loves dearly,\" says Balikarshi Shraga Dasherichala Babba Vikashti Sarva Gangulyon Karoli saying \"I wish marriage contract between Godfather Amarika Mehtabiavie\" gives promise/promise fulfilled again in future vows to remain friends & family except Vasudeva Mathew Baruchavati whose name occurs behind bars\". Shiva Nagappathy promises another handsome payment including 50 lakh rupees after coming here into Gurgapuri (formerly Hyderabad district).\" But then Kerala Commissioner Srinivas Narainath offers Rs 5 crores plus 1% discount and asks Tamil Nadu State Government officials why Parutha Selecchwa said Chennai cannot meet international standards in marrying a Muslim bride. Krishna leaves home early believing it time alone for wedding. After Krishna receives notice Karnataka CM Jaideep Singh named head minister returns unexpectedly asking whether Punjabi singer Adil Mohajeri agrees any girl must be accompanied equally regardless Hindi language requirements and hence he changes its rules. He finally accepts Sonia Gandhi promising dowry equal number whatever happens upon arrival leaving hospital ready willing Indian soldiers fighting against Mughals inside jail and forcing open fire on women seeking entry to stay safe place without incident requiring further penalty ranging anywhere 100%,000 dollar bribe to make sure each man stays safe keeping total silence about caste differences. And yet we see Krishna take off carrying heavy shoes at regular intervals whenever necessary for going forward with arrangements relating to religion being violated over Hindu temple rituals involving worship duties... Now KGK leads various rallies across Maharashtra and KG Shankara declares Satyamuna Pandey to know if Guru Sakhandel belongs To Lord Hirana Sahib Kalwantkar or not - Vishnapatnamunjan Murthy wants everything kept private until completion party at least 15 yrs prior induction anniversary which shows proof Akbarism is alive. So ends Sadhu Ganesh Sangari Swamy revealing names revealed : Asha Kapoor Ji (\"Jailboy\") Subhash Somaseen Siddiqueeceet Khan Sekha Privanod Singhalang Kaushopaka Kamila Desina Sidhyame Keema Chakraborty Yadvi Debut Shakti Mahendra Khaled Naresh Chandra Radhakaratri Poore Quithaa Mahadeesong Rayaan Abhijur Roy Mathampoyo Neerza Yojnasimasu Lenge Veghma Shalom Marathoshargiya Sayebuddin Rawliyanatha Shastogi Sreeveshar Duttore Puruviraman Syrupeth Salmo Daloo Verdyazada Vidhya Sudhu Singh Palwal Alokanthivalli Sreekumar Mitlava Vengavel Sanjeebhai Vivek Tabor Mehrer'}]\n"
          ]
        }
      ]
    },
    {
      "cell_type": "code",
      "source": [
        "input_prompt = \"<BOS> <thriller>\"\n",
        "story = story_generator(input_prompt, max_length=400, do_sample=True,\n",
        "               repetition_penalty=1.1, temperature=1.2,\n",
        "               top_p=0.95, top_k=50)"
      ],
      "metadata": {
        "colab": {
          "base_uri": "https://localhost:8080/",
          "height": 34
        },
        "id": "t6ZrwliyNUly",
        "outputId": "95114846-8349-4c0d-e3ee-1172ae264f46"
      },
      "execution_count": null,
      "outputs": [
        {
          "output_type": "display_data",
          "data": {
            "text/plain": [
              "<IPython.core.display.HTML object>"
            ],
            "text/html": [
              "\n",
              "  <style>\n",
              "    pre {\n",
              "        white-space: pre-wrap;\n",
              "    }\n",
              "  </style>\n",
              "  "
            ]
          },
          "metadata": {}
        },
        {
          "output_type": "stream",
          "name": "stderr",
          "text": [
            "Setting `pad_token_id` to `eos_token_id`:50256 for open-end generation.\n"
          ]
        }
      ]
    },
    {
      "cell_type": "code",
      "source": [
        "print(story)"
      ],
      "metadata": {
        "colab": {
          "base_uri": "https://localhost:8080/",
          "height": 538
        },
        "id": "YdM2btZsNpQL",
        "outputId": "b516ee10-cdc2-4434-a892-71316cae3e35"
      },
      "execution_count": null,
      "outputs": [
        {
          "output_type": "display_data",
          "data": {
            "text/plain": [
              "<IPython.core.display.HTML object>"
            ],
            "text/html": [
              "\n",
              "  <style>\n",
              "    pre {\n",
              "        white-space: pre-wrap;\n",
              "    }\n",
              "  </style>\n",
              "  "
            ]
          },
          "metadata": {}
        },
        {
          "output_type": "stream",
          "name": "stdout",
          "text": [
            "[{'generated_text': '<BOS> <thriller> Anastasia is a widower that has to deal with losing her husband, now the leader of Punditry as well. She wants revenge and saves his life when she feels guilty for causing it during The Bride Wars while giving him help. Her first marriage fails after their parents dies in college; but they survive together despite spending time apart (and going alone), having not come out at all before them falling under pressure from friends or even being called gangsters by others along behind bars - leading one girl-friend/puppet whom we eventually fall back into some kind relationship: Sankantu Vadipurramanagalakshavela – also known just as Ranganathacharya Chokshiva (\"Rangambam\") because he\\'s an old friend who got married earlier on instead doing so illegally, becoming involved again with someone else later only months down below due interest.\" When I think about those two girls coming closer and marrying up close,\" wrote Maithran Devi in InnaVatni Bhargava Sarayanini diyala Yojana Mahithi Dainikanthabhani Khalsa Rao\\'s debut novel Shanti(The Wedding Daydreams) written without Kailash Manajrakhyanja & Kanpur Siddarthamanjaraji Rajkumar writing each other... \"Kanna bhi rahi saathi lalasam ki kaar sabutani vin bharthavati, nahi kya jee\", sung several times throughout this book wherein Ravaji plays Thushanya Kumar Mohaya Sahai Prathamaka Khan whose story revolves around lovemaking hero Lalapathy Sharma where there was no previous narration about how much more love will be between father Vishwanatha & daughter Priha, respectively). To give you another idea, Ravaja tells us in flashback why Vidhu is still raising children of different sex through various stages which meant Devanayukul Bhatia (fatherless son Ganjeebali Menonistri etc.) became obsessed every year against Guru Nanook Mauryadhari Narvaez Srilupahadeethisudi aka Maharuta Krishnamaiah (\"Sonkar\"), and the end result caused people like Babla Amravarnaphalam Ramza Palimadi Sehtvashi Kaizungan Jayeelwarpada Parvati Panditshit Kapoorvi Ranjit Dasgupta Singh Jharkhand Banerchananda Kamina Krishna Haridasannaram \"Baby Sonley Singhas\\' sister Kali\" and most recently named Asanta Purse Sanguman Nathane Swami Goswami Singh. Also used primarily Against Meera Yadumballa Vijayenmal Nair Kumaran Karmanazhanavi (Shruti Chandraseevnan Adhamma Lakshmi Surajbhuthika Sarasvati Venkatnam Chakrabortdyga Dalviraj Patribhai Gohmarsh Sampaumshreyasu Vasodubramanianghata Chaucer ), in order keep Savitri Mitrographic narrations about what went wrong since birth\".  Deepita Padukrishndivasa writes a sad song about Mukheringiya Satyarthanu Sai Ji Sadhu Sakti Samprasamy\\'s dreams concerning Shaktanga Visindrum Akshayo Murthy / Vikram Chandra Madhyamurai and describes the dream over \\'Muttapan\\', the name Sudhwok Sangha, both mother tongue Hindi scriptural forms related words found within such Sanskrit form characters. But Viveka finds something similar though, he ends describing its place inside Shyamdevalli Parishad in Bangalore alongside the actual reason Shakuni Sastha had died last month as \"Devirvanasi Varunagaroopaghuri Veerappa Vaishnavuru\" means power psychic entity. He gets Ashima Ayana Tarverda Shankarichiri Arjunathan quoting Virgilio Santoro stating thus: It should have been Nirvikaja Avinisandi Vasudeva / Malekker Roy Moore (who is identified simply alias Sidheshenna Matronamechauddinielyne) saying things like Alijuna Shakuni Sarasvati Verdulli Superevo Subhashila (which can mean anybody born anywhere, evil forces go hard searching anyone and everyone goes bad too cause anything happens especially things happen) are happening naturally. Hence Shivvarinda sees it quite differently way backwards and says \"Sidyuvatanaru Akuma Bharadeswaraa yatta\", which implies Sunita could feel it too many things, but does everything right using magic methodical powers to remove evil ones mind including magical force creating reality completely black colour white image of personified face of God, as depicted already displayed above here shown clearly making sure if Shakuntanga becomes mad Shiva performs yoga spell, he thereby saving lives instantly (this must take a great amount work'}]\n"
          ]
        }
      ]
    },
    {
      "cell_type": "code",
      "source": [
        "from google.colab import drive\n",
        "drive.mount('/content/drive')"
      ],
      "metadata": {
        "colab": {
          "base_uri": "https://localhost:8080/",
          "height": 34
        },
        "id": "kdEBuHLSODhj",
        "outputId": "df2e9323-f042-4e81-b45a-d24e4b741173"
      },
      "execution_count": null,
      "outputs": [
        {
          "output_type": "display_data",
          "data": {
            "text/plain": [
              "<IPython.core.display.HTML object>"
            ],
            "text/html": [
              "\n",
              "  <style>\n",
              "    pre {\n",
              "        white-space: pre-wrap;\n",
              "    }\n",
              "  </style>\n",
              "  "
            ]
          },
          "metadata": {}
        },
        {
          "output_type": "stream",
          "name": "stdout",
          "text": [
            "Mounted at /content/drive\n"
          ]
        }
      ]
    },
    {
      "cell_type": "code",
      "source": [
        "# Save the final model after training and evaluation to Google Drive\n",
        "model.save_pretrained(\"/content/drive/MyDrive/ColabNotebook/Story_generation_model\")\n",
        "tokenizer.save_pretrained(\"/content/drive/MyDrive/ColabNotebook/Story_generation_model\")\n"
      ],
      "metadata": {
        "colab": {
          "base_uri": "https://localhost:8080/",
          "height": 121
        },
        "id": "BufAeS08QBdP",
        "outputId": "80d46d5b-bcb1-4a3a-da44-db50fc28db3c"
      },
      "execution_count": null,
      "outputs": [
        {
          "output_type": "display_data",
          "data": {
            "text/plain": [
              "<IPython.core.display.HTML object>"
            ],
            "text/html": [
              "\n",
              "  <style>\n",
              "    pre {\n",
              "        white-space: pre-wrap;\n",
              "    }\n",
              "  </style>\n",
              "  "
            ]
          },
          "metadata": {}
        },
        {
          "output_type": "execute_result",
          "data": {
            "text/plain": [
              "('/content/drive/MyDrive/ColabNotebook/Story_generation_model/tokenizer_config.json',\n",
              " '/content/drive/MyDrive/ColabNotebook/Story_generation_model/special_tokens_map.json',\n",
              " '/content/drive/MyDrive/ColabNotebook/Story_generation_model/vocab.json',\n",
              " '/content/drive/MyDrive/ColabNotebook/Story_generation_model/merges.txt',\n",
              " '/content/drive/MyDrive/ColabNotebook/Story_generation_model/added_tokens.json',\n",
              " '/content/drive/MyDrive/ColabNotebook/Story_generation_model/tokenizer.json')"
            ]
          },
          "metadata": {},
          "execution_count": 30
        }
      ]
    },
    {
      "cell_type": "code",
      "source": [],
      "metadata": {
        "id": "9aTRHT-IQ4TR"
      },
      "execution_count": null,
      "outputs": []
    }
  ]
}